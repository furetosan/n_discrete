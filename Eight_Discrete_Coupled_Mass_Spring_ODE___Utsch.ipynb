{
  "cells": [
    {
      "cell_type": "markdown",
      "id": "815ec97c",
      "metadata": {
        "id": "815ec97c"
      },
      "source": [
        "Frederico Furst Bittencourt\n",
        "\n",
        "2022/09/14"
      ]
    },
    {
      "cell_type": "markdown",
      "id": "44fd4a0d",
      "metadata": {
        "id": "44fd4a0d"
      },
      "source": [
        "Copied and modified from https://scipy-cookbook.readthedocs.io/items/CoupledSpringMassSystem.html (em 2002/jun/07)."
      ]
    },
    {
      "cell_type": "markdown",
      "source": [
        "Tentative titles:\n",
        "\n",
        "- The prediction of Strength, Damage Initiation and Damage Progression in the Open Hole, Filled Hole and Single-Shear Bearing tests for Composite Material Laminates and Chaos and Hyperchaos in the Triple Mass-Spring System Dynamic Response\n",
        "\n",
        "- Chaos and Hyperchaos in the Triple Mass-Spring Dynamic Response and its application to the prediction of Strength, Damage Initiation and Damage Progression in the Open Hole, Filled Hole and Single-Shear Bearing tests for Composite Material Laminates"
      ],
      "metadata": {
        "id": "sm7afH1bMdub"
      },
      "id": "sm7afH1bMdub"
    },
    {
      "cell_type": "markdown",
      "source": [
        "# Four Mass-Spring Model"
      ],
      "metadata": {
        "id": "oUYdfPVmuqz-"
      },
      "id": "oUYdfPVmuqz-"
    },
    {
      "cell_type": "markdown",
      "source": [
        "## Imports and Libraries"
      ],
      "metadata": {
        "id": "DqacMULpAwsO"
      },
      "id": "DqacMULpAwsO"
    },
    {
      "cell_type": "code",
      "source": [
        "!pip install nolds\n",
        "import nolds\n",
        "import numpy as np\n",
        "# Plot the solution that was generated\n",
        "import matplotlib.pyplot as plt\n",
        "# Use ODEINT to solve the differential equations defined by the vector field\n",
        "from scipy.integrate import odeint"
      ],
      "metadata": {
        "colab": {
          "base_uri": "https://localhost:8080/"
        },
        "id": "3Azp91o959eH",
        "outputId": "5b12c9c2-eda4-448f-e764-0a5488c53b1b"
      },
      "id": "3Azp91o959eH",
      "execution_count": null,
      "outputs": [
        {
          "output_type": "stream",
          "name": "stdout",
          "text": [
            "Looking in indexes: https://pypi.org/simple, https://us-python.pkg.dev/colab-wheels/public/simple/\n",
            "Requirement already satisfied: nolds in /usr/local/lib/python3.7/dist-packages (0.5.2)\n",
            "Requirement already satisfied: setuptools in /usr/local/lib/python3.7/dist-packages (from nolds) (57.4.0)\n",
            "Requirement already satisfied: numpy in /usr/local/lib/python3.7/dist-packages (from nolds) (1.21.6)\n",
            "Requirement already satisfied: future in /usr/local/lib/python3.7/dist-packages (from nolds) (0.16.0)\n"
          ]
        }
      ]
    },
    {
      "cell_type": "markdown",
      "source": [
        "### Model Specification"
      ],
      "metadata": {
        "id": "dEiEUY2oeI5s"
      },
      "id": "dEiEUY2oeI5s"
    },
    {
      "cell_type": "code",
      "source": [
        "forca_inicial = 0.0\n",
        "forca_final = -1.0\n",
        "tempo_inicial = 5.0\n",
        "tempo_final = 10.0"
      ],
      "metadata": {
        "id": "AarldgSajb1l"
      },
      "id": "AarldgSajb1l",
      "execution_count": null,
      "outputs": []
    },
    {
      "cell_type": "code",
      "source": [
        "n=8"
      ],
      "metadata": {
        "id": "3sUAteHpCPi8"
      },
      "id": "3sUAteHpCPi8",
      "execution_count": null,
      "outputs": []
    },
    {
      "cell_type": "code",
      "source": [
        "# Parameter values\n",
        "# Masses:\n",
        "# m1 = 2.0\n",
        "m = 2.0/n\n",
        "# Spring constants\n",
        "# k1 = 5.0\n",
        "k = 0.03*n\n",
        "# Natural lengths\n",
        "# L1 = 1.0\n",
        "L = 4.0/n\n",
        "# Friction coefficients\n",
        "# b1 = 0.6\n",
        "b = 0.2\n",
        "\n",
        "# Initial conditions\n",
        "# x1 and x2 are the initial displacements; y1 and y2 are the initial velocities\n",
        "x1 = 1.0*L\n",
        "y1 = 0.0\n",
        "x2 = 2.0*L\n",
        "y2 = 0.0\n",
        "x3 = 3.0*L\n",
        "y3 = 0.0\n",
        "x4 = 4.0*L\n",
        "y4 = 0.0\n",
        "x5 = 5.0*L\n",
        "y5 = 0.0\n",
        "x6 = 6.0*L\n",
        "y6 = 0.0\n",
        "x7 = 7.0*L\n",
        "y7 = 0.0\n",
        "x8 = 8.0*L\n",
        "y8 = 0.0\n",
        "\n",
        "# ODE solver parameters\n",
        "abserr = 1.0e-8\n",
        "relerr = 1.0e-6\n",
        "stoptime = 25.0\n",
        "numpoints = 1000\n",
        "\n",
        "# Create the time samples for the output of the ODE solver.\n",
        "# I use a large number of points, only because I want to make\n",
        "# a plot of the solution that looks nice.\n",
        "t = [stoptime * float(i) / (numpoints - 1) for i in range(numpoints)]"
      ],
      "metadata": {
        "id": "A-cWUvOFuuXf"
      },
      "id": "A-cWUvOFuuXf",
      "execution_count": null,
      "outputs": []
    },
    {
      "cell_type": "markdown",
      "source": [
        "## Entrada de Degrau de Força em $x_3$"
      ],
      "metadata": {
        "id": "nZiwGpDovatt"
      },
      "id": "nZiwGpDovatt"
    },
    {
      "cell_type": "markdown",
      "source": [
        "![image.png](data:image/png;base64,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)"
      ],
      "metadata": {
        "id": "rzNfLBM4P8mZ"
      },
      "id": "rzNfLBM4P8mZ"
    },
    {
      "cell_type": "markdown",
      "source": [
        "### Entradas"
      ],
      "metadata": {
        "id": "Fc_tBs330i3F"
      },
      "id": "Fc_tBs330i3F"
    },
    {
      "cell_type": "markdown",
      "source": [
        "#### Degrau de Força de Entrada"
      ],
      "metadata": {
        "id": "zh1N-Ijp0de1"
      },
      "id": "zh1N-Ijp0de1"
    },
    {
      "cell_type": "code",
      "source": [
        "# degrau de forca\n",
        "def degrau_forca(t):\n",
        "    if t <= 5.0:\n",
        "        forca = forca_inicial\n",
        "    else:\n",
        "        forca = forca_final\n",
        "    return forca"
      ],
      "metadata": {
        "id": "Thr3Tso9vZK3"
      },
      "id": "Thr3Tso9vZK3",
      "execution_count": null,
      "outputs": []
    },
    {
      "cell_type": "markdown",
      "source": [
        "#### Campo Vetorial"
      ],
      "metadata": {
        "id": "9jeLoa6O0bAu"
      },
      "id": "9jeLoa6O0bAu"
    },
    {
      "cell_type": "code",
      "source": [
        "def degrau_forca_vectorfield(w, t, p):\n",
        "    \"\"\"\n",
        "    Defines the differential equations for the coupled spring-mass system.\n",
        "\n",
        "    Arguments:\n",
        "        w :  vector of the state variables:\n",
        "                  w = [x1,y1,x2,y2,x3,y3]\n",
        "        t :  time\n",
        "        p :  vector of the parameters:\n",
        "                  p = [m1,m2,m3,k1,k2,k3,L1,L2,L3,b1,b2,b3]\n",
        "    \"\"\"\n",
        "    x1, y1, x2, y2, x3, y3, x4, y4, x5, y5, x6, y6, x7, y7, x8, y8 = w\n",
        "    m, k, L, b = p\n",
        "\n",
        "    # Create f = (x1',y1',x2',y2' ...):\n",
        "    f = [\n",
        "            y1,\n",
        "            (-b * y1 - k * (x1 - L) + k * (x2 - x1 - L) ) / m,\n",
        "            y2,\n",
        "            (-b * y2 - k * (x2 - x1 - L) + k * (x3 - x2 - L) ) / m,\n",
        "            y3,\n",
        "            (-b * y3 - k * (x3 - x2 - L) + k * (x4 - x3 - L) ) / m,\n",
        "            y4,\n",
        "            (-b * y4 - k * (x4 - x3 - L) + k * (x5 - x4 - L) ) / m,\n",
        "            y5,\n",
        "            (-b * y5 - k * (x5 - x4 - L) + k * (x6 - x5 - L) ) / m,\n",
        "            y6,\n",
        "            (-b * y6 - k * (x6 - x5 - L) + k * (x7 - x6 - L) ) / m,\n",
        "            y7,\n",
        "            (-b * y7 - k * (x7 - x6 - L) + k * (x8 - x7 - L) ) / m,\n",
        "            y8,\n",
        "            (-b * y8 - k * (x8 - x7 - L) + degrau_forca(t)) / m,\n",
        "         ]\n",
        "    return f"
      ],
      "metadata": {
        "id": "T75qI23avj1t"
      },
      "id": "T75qI23avj1t",
      "execution_count": null,
      "outputs": []
    },
    {
      "cell_type": "markdown",
      "source": [
        "### Saídas"
      ],
      "metadata": {
        "id": "YML2Aazx0n-c"
      },
      "id": "YML2Aazx0n-c"
    },
    {
      "cell_type": "markdown",
      "source": [
        "#### Unpacking"
      ],
      "metadata": {
        "id": "tTiyQYyc0XZm"
      },
      "id": "tTiyQYyc0XZm"
    },
    {
      "cell_type": "code",
      "source": [
        "p = [m, k, L, b]\n",
        "w0 = [x1, y1, x2, y2, x3, y3, x4, y4, x5, y5, x6, y6, x7, y7, x8, y8]\n",
        "\n",
        "# Call the ODE solver.\n",
        "wsol = odeint(degrau_forca_vectorfield, w0, t, args=(p,),\n",
        "              atol=abserr, rtol=relerr)\n",
        "\n",
        "at, ax1, ay1, ax2, ay2, ax3, ay3, ax4, ay4  = [],[],[],[],[],[],[],[],[],\n",
        "ax5, ay5, ax6, ay6, ax7, ay7, ax8, ay8  = [],[],[],[],[],[],[],[],\n",
        "# adendo\n",
        "IE1, KE1 = [],[]\n",
        "IE2, KE2 = [],[]\n",
        "IE3, KE3 = [],[]\n",
        "IE4, KE4 = [],[]\n",
        "IE5, KE5 = [],[]\n",
        "IE6, KE6 = [],[]\n",
        "IE7, KE7 = [],[]\n",
        "IE8, KE8 = [],[]\n",
        "ET = []\n",
        "for t1, w1 in zip(t, wsol):\n",
        "    # print( t1, w1[0], w1[1], w1[2], w1[3])\n",
        "    at.append(t1)\n",
        "    ax1.append(w1[0])\n",
        "    ay1.append(w1[1])\n",
        "    ax2.append(w1[2])\n",
        "    ay2.append(w1[3])\n",
        "    ax3.append(w1[4])\n",
        "    ay3.append(w1[5])\n",
        "    ax4.append(w1[6])\n",
        "    ay4.append(w1[7])\n",
        "    ax5.append(w1[8])\n",
        "    ay5.append(w1[9])\n",
        "    ax6.append(w1[10])\n",
        "    ay6.append(w1[11])\n",
        "    ax7.append(w1[12])\n",
        "    ay7.append(w1[13])\n",
        "    ax8.append(w1[14])\n",
        "    ay8.append(w1[15])\n",
        "\n",
        "    IE1.append(k*(w1[0]-L)**2/2)\n",
        "    KE1.append(m*w1[1]**2/2)\n",
        "    IE2.append(k*(w1[2]-w1[0]-L)**2/2)\n",
        "    KE2.append(m*w1[3]**2/2)\n",
        "    IE3.append(k*(w1[4]-w1[2]-L)**2/2)\n",
        "    KE3.append(m*w1[5]**2/2)\n",
        "    IE4.append(k*(w1[6]-w1[4]-L)**2/2)\n",
        "    KE4.append(m*w1[7]**2/2)\n",
        "    ET.append(k*(w1[0]-L)**2/2+\n",
        "              m*w1[1]**2/2+\n",
        "              k*(w1[2]-w1[0]-L)**2/2+\n",
        "              m*w1[3]**2/2+\n",
        "              k*(w1[4]-w1[2]-L)**2/2+\n",
        "              m*w1[5]**2/2+\n",
        "              k*(w1[6]-w1[4]-L)**2/2+\n",
        "              m*w1[7]**2/2)"
      ],
      "metadata": {
        "id": "7DFR1RqUwKeV"
      },
      "id": "7DFR1RqUwKeV",
      "execution_count": null,
      "outputs": []
    },
    {
      "cell_type": "markdown",
      "source": [
        "#### Forças Aplicada e de Reação"
      ],
      "metadata": {
        "id": "VB4TR0-50EX1"
      },
      "id": "VB4TR0-50EX1"
    },
    {
      "cell_type": "code",
      "source": [
        "plt.figure(figsize=(8,8))\n",
        "F1 = -k*np.array(ax1) + np.array([k*L for i in range(len(ax1))])\n",
        "plt.plot(at, F1, 'b', linewidth=1)\n",
        "F2 = -k*(np.array(ax2)-np.array(ax1)-L)\n",
        "plt.plot(at, F2, 'g', linewidth=1)\n",
        "F3 = -k*(np.array(ax3)-np.array(ax2)-L)\n",
        "plt.plot(at, F3, 'c', linewidth=1)\n",
        "F4 = -k*(np.array(ax4)-np.array(ax3)-L)\n",
        "plt.plot(at, F4, 'm', linewidth=1)\n",
        "F5 = -k*(np.array(ax5)-np.array(ax4)-L)\n",
        "plt.plot(at, F5, 'b', linewidth=1)\n",
        "F6 = -k*(np.array(ax6)-np.array(ax5)-L)\n",
        "plt.plot(at, F6, 'g', linewidth=1)\n",
        "F7 = -k*(np.array(ax7)-np.array(ax6)-L)\n",
        "plt.plot(at, F7, 'c', linewidth=1)\n",
        "F8 = -k*(np.array(ax8)-np.array(ax7)-L)\n",
        "plt.plot(at, F8, 'm', linewidth=1)\n",
        "plt.plot(at, -np.array([ degrau_forca(t) for t in at ]), 'r', linewidth=1)\n",
        "\n",
        "plt.text(\n",
        "    at[np.where(F1 == max(F1))[0][0]]+0.5,\n",
        "    max(F1),\n",
        "    '$F_{1,max}$ = '+str(\"{:.3f}\".format(max(F1)))\n",
        "    )\n",
        "array_diferencas = F1 - (-forca_final)\n",
        "indice_tr = np.abs(array_diferencas)[:np.where(F1 == max(F1))[0][0]].argmin()\n",
        "plt.text(\n",
        "    at[indice_tr]+0.25,\n",
        "    -forca_final-0.05,\n",
        "    '$t_{r,subida}$ = '+str(\"{:.3f}\".format(at[indice_tr]))\n",
        "    )\n",
        "array_diferencas = F1 - (-forca_final/2)\n",
        "indice_td = np.abs(array_diferencas)[:np.where(F1 == max(F1))[0][0]].argmin()\n",
        "plt.text(\n",
        "    at[indice_td]+0.25,\n",
        "    - forca_final/2,\n",
        "    '$t_{d,atraso}$ = '+str(\"{:.3f}\".format(at[indice_td]))\n",
        "    )\n",
        "indice_tp = np.where(F1 == max(F1))[0][0]\n",
        "plt.text(\n",
        "    at[indice_tp]+2,\n",
        "    F1[indice_tp]-0.05,\n",
        "    '$t_{p,pico}$ = '+str(\"{:.3f}\".format(at[indice_tp]))\n",
        "    )\n",
        "tolerancia = 0.02\n",
        "array_diferencas_abs = np.abs( F1 - (-forca_final) )\n",
        "indices_tol = np.where(array_diferencas_abs < tolerancia)[0]\n",
        "comecos_de_pedacos = []\n",
        "for i in range(len(indices_tol)-1):\n",
        "  if indices_tol[i] != indices_tol[i+1]-1:\n",
        "    comecos_de_pedacos.append(i)\n",
        "indice_ts = indices_tol[comecos_de_pedacos[-1]+1]\n",
        "plt.text(\n",
        "    at[indice_ts],\n",
        "    F1[indice_ts]-0.05,\n",
        "    '$t_{s,assentamento}$ = '+str(\"{:.3f}\".format(at[indice_ts]))\n",
        "    )\n",
        "omega_d = np.pi/at[indice_tp]\n",
        "plt.text(\n",
        "    0.0, 1.0,\n",
        "    '$\\omega_d$ = '+str(\"{:.3f}\".format(omega_d))\n",
        ")\n",
        "UP = max(F1) - (-forca_final)\n",
        "xi = -np.log(UP)/np.sqrt(np.pi**2+np.log(UP)**2)\n",
        "plt.text(\n",
        "    0.0, 0.9,\n",
        "    r'$\\xi$ = '+str(\"{:.3f}\".format(xi))\n",
        ")\n",
        "omega_n = omega_d/np.sqrt(1-xi*xi)\n",
        "plt.text(\n",
        "    0.0, 0.8,\n",
        "    '$\\omega_n$ = '+str(\"{:.3f}\".format(omega_n))\n",
        ")\n",
        "zeta = np.sqrt(1-xi**2)\n",
        "plt.text(\n",
        "    0.0, 0.7,\n",
        "    '$\\zeta$ = '+str(\"{:.3f}\".format(zeta))\n",
        ")\n",
        "theta = np.arctan(np.sqrt(1-xi**2)/xi)\n",
        "plt.text(\n",
        "    0.0, 0.6,\n",
        "    r'$\\theta$ = '+str(\"{:.3f}\".format(theta))\n",
        ")\n",
        "plt.grid(visible=True)\n",
        "plt.xlabel('time (s)')\n",
        "plt.ylabel('force (N)')\n",
        "plt.legend((r'$F_{1}$', r'$F_{2}$', r'$F_{3}$', r'$F_{4}$',\n",
        "            r'$F_{5}$', r'$F_{6}$', r'$F_{7}$', r'$F_{8}$',),loc='lower right')\n",
        "plt.title('Reaction and Applied Forces for the Triply Coupled Spring-Mass System rampa forca')"
      ],
      "metadata": {
        "colab": {
          "base_uri": "https://localhost:8080/",
          "height": 701
        },
        "id": "6f75Zi9VwcMd",
        "outputId": "31169bc1-1424-4129-b4d7-4e7c8e3becfb"
      },
      "id": "6f75Zi9VwcMd",
      "execution_count": null,
      "outputs": [
        {
          "output_type": "error",
          "ename": "IndexError",
          "evalue": "ignored",
          "traceback": [
            "\u001b[0;31m---------------------------------------------------------------------------\u001b[0m",
            "\u001b[0;31mIndexError\u001b[0m                                Traceback (most recent call last)",
            "\u001b[0;32m<ipython-input-412-b25e36a54321>\u001b[0m in \u001b[0;36m<module>\u001b[0;34m\u001b[0m\n\u001b[1;32m     50\u001b[0m   \u001b[0;32mif\u001b[0m \u001b[0mindices_tol\u001b[0m\u001b[0;34m[\u001b[0m\u001b[0mi\u001b[0m\u001b[0;34m]\u001b[0m \u001b[0;34m!=\u001b[0m \u001b[0mindices_tol\u001b[0m\u001b[0;34m[\u001b[0m\u001b[0mi\u001b[0m\u001b[0;34m+\u001b[0m\u001b[0;36m1\u001b[0m\u001b[0;34m]\u001b[0m\u001b[0;34m-\u001b[0m\u001b[0;36m1\u001b[0m\u001b[0;34m:\u001b[0m\u001b[0;34m\u001b[0m\u001b[0;34m\u001b[0m\u001b[0m\n\u001b[1;32m     51\u001b[0m     \u001b[0mcomecos_de_pedacos\u001b[0m\u001b[0;34m.\u001b[0m\u001b[0mappend\u001b[0m\u001b[0;34m(\u001b[0m\u001b[0mi\u001b[0m\u001b[0;34m)\u001b[0m\u001b[0;34m\u001b[0m\u001b[0;34m\u001b[0m\u001b[0m\n\u001b[0;32m---> 52\u001b[0;31m \u001b[0mindice_ts\u001b[0m \u001b[0;34m=\u001b[0m \u001b[0mindices_tol\u001b[0m\u001b[0;34m[\u001b[0m\u001b[0mcomecos_de_pedacos\u001b[0m\u001b[0;34m[\u001b[0m\u001b[0;34m-\u001b[0m\u001b[0;36m1\u001b[0m\u001b[0;34m]\u001b[0m\u001b[0;34m+\u001b[0m\u001b[0;36m1\u001b[0m\u001b[0;34m]\u001b[0m\u001b[0;34m\u001b[0m\u001b[0;34m\u001b[0m\u001b[0m\n\u001b[0m\u001b[1;32m     53\u001b[0m plt.text(\n\u001b[1;32m     54\u001b[0m     \u001b[0mat\u001b[0m\u001b[0;34m[\u001b[0m\u001b[0mindice_ts\u001b[0m\u001b[0;34m]\u001b[0m\u001b[0;34m,\u001b[0m\u001b[0;34m\u001b[0m\u001b[0;34m\u001b[0m\u001b[0m\n",
            "\u001b[0;31mIndexError\u001b[0m: list index out of range"
          ]
        },
        {
          "output_type": "display_data",
          "data": {
            "text/plain": [
              "<Figure size 576x576 with 1 Axes>"
            ],
            "image/png": "[encoded data removed]"
          },
          "metadata": {
            "needs_background": "light"
          }
        }
      ]
    },
    {
      "cell_type": "markdown",
      "source": [
        "#### Posições"
      ],
      "metadata": {
        "id": "XnBXsj8_0Bnt"
      },
      "id": "XnBXsj8_0Bnt"
    },
    {
      "cell_type": "code",
      "source": [
        "plt.figure(figsize=(8,8))\n",
        "plt.plot(at, ax1, 'b', linewidth=1)\n",
        "plt.plot(at, ax2, 'g', linewidth=1)\n",
        "plt.plot(at, ax3, 'r', linewidth=1)\n",
        "plt.plot(at, ax4, 'm', linewidth=1)\n",
        "plt.plot(at, ax5, 'b', linewidth=1)\n",
        "plt.plot(at, ax6, 'g', linewidth=1)\n",
        "plt.plot(at, ax7, 'r', linewidth=1)\n",
        "plt.plot(at, ax8, 'm', linewidth=1)\n",
        "\n",
        "plt.text(at[ax1.index(min(ax1))], min(ax1)-0.1, '$x_{1,min}$ = '+str(\"{:.3f}\".format(min(ax1))))\n",
        "plt.text(at[ax2.index(min(ax2))], min(ax2)-0.1, '$x_{2,min}$ = '+str(\"{:.3f}\".format(min(ax2))))\n",
        "plt.text(at[ax3.index(min(ax3))], min(ax3)-0.1, '$x_{3,min}$ = '+str(\"{:.3f}\".format(min(ax3))))\n",
        "plt.text(at[ax4.index(min(ax4))], min(ax4)-0.1, '$x_{4,min}$ = '+str(\"{:.3f}\".format(min(ax4))))\n",
        "plt.grid(visible=True)\n",
        "plt.xlabel('time (s)')\n",
        "plt.ylabel('position (m)')\n",
        "plt.legend((r'$x_1$', r'$x_2$', r'$x_3$', r'$x_4$',r'$x_5$', r'$x_6$', r'$x_7$', r'$x_8$',\n",
        "            r'$x_9$', r'$x_{10}$', r'$x_{11}$', r'$x_{12}$',r'$x_{13}$', r'$x_{14}$', r'$x_{15}$', r'$x_{16}$',))\n",
        "plt.title('Mass Displacements for the Four Coupled Spring-Mass System rampa forca')"
      ],
      "metadata": {
        "colab": {
          "base_uri": "https://localhost:8080/",
          "height": 530
        },
        "id": "1XB26iwWwrNF",
        "outputId": "2d2e0f5a-f297-44e5-82b0-060099d3f297"
      },
      "id": "1XB26iwWwrNF",
      "execution_count": null,
      "outputs": [
        {
          "output_type": "execute_result",
          "data": {
            "text/plain": [
              "Text(0.5, 1.0, 'Mass Displacements for the Four Coupled Spring-Mass System rampa forca')"
            ]
          },
          "metadata": {},
          "execution_count": 413
        },
        {
          "output_type": "display_data",
          "data": {
            "text/plain": [
              "<Figure size 576x576 with 1 Axes>"
            ],
            "image/png": "[encoded data removed]"
          },
          "metadata": {
            "needs_background": "light"
          }
        }
      ]
    },
    {
      "cell_type": "markdown",
      "source": [
        "#### Velocidades"
      ],
      "metadata": {
        "id": "eSa1bsdWz_U-"
      },
      "id": "eSa1bsdWz_U-"
    },
    {
      "cell_type": "code",
      "source": [
        "plt.figure(figsize=(8,8))\n",
        "plt.plot(at, ay1, 'b', linewidth=1)\n",
        "plt.plot(at, ay2, 'g', linewidth=1)\n",
        "plt.plot(at, ay3, 'r', linewidth=1)\n",
        "plt.plot(at, ay4, 'm', linewidth=1)\n",
        "plt.plot(at, ay5, 'b', linewidth=1)\n",
        "plt.plot(at, ay6, 'g', linewidth=1)\n",
        "plt.plot(at, ay7, 'r', linewidth=1)\n",
        "plt.plot(at, ay8, 'm', linewidth=1)\n",
        "\n",
        "plt.text(at[ay1.index(min(ay1))]+0.5, min(ay1), '$v_{1,min}$ = '+str(\"{:.3f}\".format(min(ay1))))\n",
        "plt.text(at[ay2.index(min(ay2))]+0.5, min(ay2), '$v_{2,min}$ = '+str(\"{:.3f}\".format(min(ay2))))\n",
        "plt.text(at[ay3.index(min(ay3))]+0.5, min(ay3), '$v_{3,min}$ = '+str(\"{:.3f}\".format(min(ay3))))\n",
        "plt.text(at[ay4.index(min(ay4))]+0.5, min(ay4), '$v_{4,min}$ = '+str(\"{:.3f}\".format(min(ay4))))\n",
        "plt.text(at[ay5.index(min(ay5))]+0.5, min(ay5), '$v_{5,min}$ = '+str(\"{:.3f}\".format(min(ay5))))\n",
        "plt.text(at[ay6.index(min(ay6))]+0.5, min(ay6), '$v_{6,min}$ = '+str(\"{:.3f}\".format(min(ay6))))\n",
        "plt.text(at[ay7.index(min(ay7))]+0.5, min(ay7), '$v_{7,min}$ = '+str(\"{:.3f}\".format(min(ay7))))\n",
        "plt.text(at[ay8.index(min(ay8))]+0.5, min(ay8), '$v_{8,min}$ = '+str(\"{:.3f}\".format(min(ay8))))\n",
        "\n",
        "plt.grid(visible=True)\n",
        "plt.xlabel('time (s)')\n",
        "plt.ylabel('position (m)')\n",
        "plt.legend((r'$v_1$', r'$v_2$', r'$v_3$', r'$v_4$',r'$v_5$', r'$v_6$', r'$v_7$', r'$v_8$'))\n",
        "plt.title('Mass Velocities for the Four Coupled Spring-Mass System rampa forca')"
      ],
      "metadata": {
        "colab": {
          "base_uri": "https://localhost:8080/",
          "height": 530
        },
        "id": "ZgLJqlFowz0-",
        "outputId": "43efadcf-2451-438b-87bb-ee22b4d0496f"
      },
      "id": "ZgLJqlFowz0-",
      "execution_count": null,
      "outputs": [
        {
          "output_type": "execute_result",
          "data": {
            "text/plain": [
              "Text(0.5, 1.0, 'Mass Velocities for the Four Coupled Spring-Mass System rampa forca')"
            ]
          },
          "metadata": {},
          "execution_count": 414
        },
        {
          "output_type": "display_data",
          "data": {
            "text/plain": [
              "<Figure size 576x576 with 1 Axes>"
            ],
            "image/png": "[encoded data removed]"
          },
          "metadata": {
            "needs_background": "light"
          }
        }
      ]
    },
    {
      "cell_type": "code",
      "source": [
        "\n",
        "# adendo\n",
        "plt.figure(figsize=(8,8))\n",
        "plt.grid(visible=True)\n",
        "plt.plot(at,IE1,'b-')\n",
        "plt.plot(at,KE1,'darkblue')\n",
        "plt.plot(at,IE2,'g-')\n",
        "plt.plot(at,KE2,'darkgreen')\n",
        "plt.plot(at,IE3,'r-')\n",
        "plt.plot(at,KE3,'darkred')\n",
        "plt.plot(at,IE4,'m-')\n",
        "plt.plot(at,KE4,'darkmagenta')\n",
        "plt.plot(at,ET,'black')\n",
        "plt.legend((r'$IE_1$',r'$KE_1$',r'$IE_2$',r'$KE_2$',r'$IE_3$',r'$KE_3$',r'$IE_4$',r'$KE_4$',r'$E_T$'))\n",
        "plt.title('Energies')"
      ],
      "metadata": {
        "colab": {
          "base_uri": "https://localhost:8080/",
          "height": 516
        },
        "id": "nYVq6qKpGVEd",
        "outputId": "f9839ca7-4a5f-4ce8-f569-9a52114dd405"
      },
      "id": "nYVq6qKpGVEd",
      "execution_count": null,
      "outputs": [
        {
          "output_type": "execute_result",
          "data": {
            "text/plain": [
              "Text(0.5, 1.0, 'Energies')"
            ]
          },
          "metadata": {},
          "execution_count": 415
        },
        {
          "output_type": "display_data",
          "data": {
            "text/plain": [
              "<Figure size 576x576 with 1 Axes>"
            ],
            "image/png": "[encoded data removed]"
          },
          "metadata": {
            "needs_background": "light"
          }
        }
      ]
    },
    {
      "cell_type": "markdown",
      "source": [
        "#### Extremos"
      ],
      "metadata": {
        "id": "VKQ37Jfh0-ON"
      },
      "id": "VKQ37Jfh0-ON"
    },
    {
      "cell_type": "code",
      "source": [
        "print('x1_min = '+str(min(ax1)))\n",
        "print('x2_min = '+str(min(ax2)))\n",
        "print('x3_min = '+str(min(ax3)))\n",
        "\n",
        "print('Freacao_max = '+str(max(-k*np.array(ax1) + np.array([k*L for i in range(len(ax1))]))))\n",
        "print('Fx2_min = '+str(min(np.array([ degrau_forca(t) for t in at ]))))"
      ],
      "metadata": {
        "id": "lquv1EWWw8Bm"
      },
      "id": "lquv1EWWw8Bm",
      "execution_count": null,
      "outputs": []
    },
    {
      "cell_type": "code",
      "source": [
        "print(np.array([\n",
        "    # nolds.lyap_r(a)#x1),\n",
        "    nolds.lyap_e(ax1),#,emb_dim=28,matrix_dim=10),\n",
        "    # nolds.dfa(ax1))#,\n",
        "    # nolds.lyap_r(a)#x2),\n",
        "    nolds.lyap_e(ax2),#,emb_dim=28,matrix_dim=10),\n",
        "    # nolds.dfa(ax2))#,\n",
        "    nolds.lyap_e(ax3),#,emb_dim=28,matrix_dim=10),\n",
        "    \n",
        "    nolds.lyap_e(ax4),#,emb_dim=28,matrix_dim=10),\n",
        "    nolds.lyap_e(ax5),#,emb_dim=28,matrix_dim=10),\n",
        "    nolds.lyap_e(ax6),#,emb_dim=28,matrix_dim=10),\n",
        "    nolds.lyap_e(ax7),#,emb_dim=28,matrix_dim=10),\n",
        "    nolds.lyap_e(ax8),#,emb_dim=28,matrix_dim=10),\n",
        "]))"
      ],
      "metadata": {
        "id": "hmZ5RtZiq0Qp"
      },
      "id": "hmZ5RtZiq0Qp",
      "execution_count": null,
      "outputs": []
    },
    {
      "cell_type": "markdown",
      "source": [
        "\n",
        "## Entrada de Rampa em Força em $x_3$"
      ],
      "metadata": {
        "id": "5nAFkkx2zID9"
      },
      "id": "5nAFkkx2zID9"
    },
    {
      "cell_type": "markdown",
      "source": [
        "### Entradas"
      ],
      "metadata": {
        "id": "xnC3bPlD0w81"
      },
      "id": "xnC3bPlD0w81"
    },
    {
      "cell_type": "markdown",
      "source": [
        "#### Rampa de Força de Entrada"
      ],
      "metadata": {
        "id": "nDRFsfu60yU_"
      },
      "id": "nDRFsfu60yU_"
    },
    {
      "cell_type": "code",
      "source": [
        "# rampa de forca\n",
        "def rampa_forca(t):\n",
        "    if t < tempo_inicial:\n",
        "        forc = forca_inicial\n",
        "    elif t >= tempo_inicial and t <= tempo_final:\n",
        "        # forc = 5.0-1.0*t\n",
        "        forc = forca_inicial+(forca_final-forca_inicial)/(10.0-5.0)*(t-5.0)\n",
        "    else:\n",
        "        forc = forca_final\n",
        "    return forc"
      ],
      "metadata": {
        "id": "LOh5OCpexm7N"
      },
      "id": "LOh5OCpexm7N",
      "execution_count": null,
      "outputs": []
    },
    {
      "cell_type": "markdown",
      "source": [
        "#### Campo Vetorial"
      ],
      "metadata": {
        "id": "ThPILbZF006F"
      },
      "id": "ThPILbZF006F"
    },
    {
      "cell_type": "code",
      "source": [
        "def rampa_forca_vectorfield(w, t, p):\n",
        "    \"\"\"\n",
        "    Defines the differential equations for the coupled spring-mass system.\n",
        "\n",
        "    Arguments:\n",
        "        w :  vector of the state variables:\n",
        "                  w = [x1,y1,x2,y2,x3,y3]\n",
        "        t :  time\n",
        "        p :  vector of the parameters:\n",
        "                  p = [m1,m2,m3,k1,k2,k3,L1,L2,L3,b1,b2,b3]\n",
        "    \"\"\"\n",
        "    x1, y1, x2, y2, x3, y3, x4, y4, x5, y5, x6, y6, x7, y7, x8, y8 = w\n",
        "    m, k, L, b = p\n",
        "\n",
        "    # Create f = (x1',y1',x2',y2' ...):\n",
        "    f = [\n",
        "            y1,\n",
        "            (-b * y1 - k * (x1 - L) + k * (x2 - x1 - L) ) / m,\n",
        "            y2,\n",
        "            (-b * y2 - k * (x2 - x1 - L) + k * (x3 - x2 - L) ) / m,\n",
        "            y3,\n",
        "            (-b * y3 - k * (x3 - x2 - L) + k * (x4 - x3 - L) ) / m,\n",
        "            y4,\n",
        "            (-b * y4 - k * (x4 - x3 - L) + k * (x5 - x4 - L) ) / m,\n",
        "            y5,\n",
        "            (-b * y5 - k * (x5 - x4 - L) + k * (x6 - x5 - L) ) / m,\n",
        "            y6,\n",
        "            (-b * y6 - k * (x6 - x5 - L) + k * (x7 - x6 - L) ) / m,\n",
        "            y7,\n",
        "            (-b * y7 - k * (x7 - x6 - L) + k * (x8 - x7 - L) ) / m,\n",
        "            y8,\n",
        "            (-b * y8 - k * (x8 - x7 - L) + rampa_forca(t)) / m,\n",
        "         ]\n",
        "    return f"
      ],
      "metadata": {
        "id": "B-Nfww8fBVd9"
      },
      "id": "B-Nfww8fBVd9",
      "execution_count": null,
      "outputs": []
    },
    {
      "cell_type": "markdown",
      "source": [
        "### Saídas"
      ],
      "metadata": {
        "id": "Y2Nb4P1q1Nt0"
      },
      "id": "Y2Nb4P1q1Nt0"
    },
    {
      "cell_type": "markdown",
      "source": [
        "#### Unpacking"
      ],
      "metadata": {
        "id": "lFA-Wnry1O_s"
      },
      "id": "lFA-Wnry1O_s"
    },
    {
      "cell_type": "code",
      "source": [
        "p = [m, k, L, b]\n",
        "w0 = [x1, y1, x2, y2, x3, y3, x4, y4, x5, y5, x6, y6, x7, y7, x8, y8]\n",
        "\n",
        "# Call the ODE solver.\n",
        "wsol = odeint(rampa_forca_vectorfield, w0, t, args=(p,),\n",
        "              atol=abserr, rtol=relerr)\n",
        "\n",
        "at, ax1, ay1, ax2, ay2, ax3, ay3, ax4, ay4  = [],[],[],[],[],[],[],[],[],\n",
        "ax5, ay5, ax6, ay6, ax7, ay7, ax8, ay8  = [],[],[],[],[],[],[],[],\n",
        "# adendo\n",
        "IE1, KE1 = [],[]\n",
        "IE2, KE2 = [],[]\n",
        "IE3, KE3 = [],[]\n",
        "IE4, KE4 = [],[]\n",
        "IE5, KE5 = [],[]\n",
        "IE6, KE6 = [],[]\n",
        "IE7, KE7 = [],[]\n",
        "IE8, KE8 = [],[]\n",
        "ET = []\n",
        "for t1, w1 in zip(t, wsol):\n",
        "    # print( t1, w1[0], w1[1], w1[2], w1[3])\n",
        "    at.append(t1)\n",
        "    ax1.append(w1[0])\n",
        "    ay1.append(w1[1])\n",
        "    ax2.append(w1[2])\n",
        "    ay2.append(w1[3])\n",
        "    ax3.append(w1[4])\n",
        "    ay3.append(w1[5])\n",
        "    ax4.append(w1[6])\n",
        "    ay4.append(w1[7])\n",
        "    ax5.append(w1[8])\n",
        "    ay5.append(w1[9])\n",
        "    ax6.append(w1[10])\n",
        "    ay6.append(w1[11])\n",
        "    ax7.append(w1[12])\n",
        "    ay7.append(w1[13])\n",
        "    ax8.append(w1[14])\n",
        "    ay8.append(w1[15])\n",
        "\n",
        "    IE1.append(k*(w1[0]-L)**2/2)\n",
        "    KE1.append(m*w1[1]**2/2)\n",
        "    IE2.append(k*(w1[2]-w1[0]-L)**2/2)\n",
        "    KE2.append(m*w1[3]**2/2)\n",
        "    IE3.append(k*(w1[4]-w1[2]-L)**2/2)\n",
        "    KE3.append(m*w1[5]**2/2)\n",
        "    IE4.append(k*(w1[6]-w1[4]-L)**2/2)\n",
        "    KE4.append(m*w1[7]**2/2)\n",
        "    ET.append(k*(w1[0]-L)**2/2+\n",
        "              m*w1[1]**2/2+\n",
        "              k*(w1[2]-w1[0]-L)**2/2+\n",
        "              m*w1[3]**2/2+\n",
        "              k*(w1[4]-w1[2]-L)**2/2+\n",
        "              m*w1[5]**2/2+\n",
        "              k*(w1[6]-w1[4]-L)**2/2+\n",
        "              m*w1[7]**2/2)"
      ],
      "metadata": {
        "id": "vwFxgQyXzbcI"
      },
      "id": "vwFxgQyXzbcI",
      "execution_count": null,
      "outputs": []
    },
    {
      "cell_type": "markdown",
      "source": [
        "#### Forças Aplicadas e de Reação"
      ],
      "metadata": {
        "id": "QQQV--CP1Rg1"
      },
      "id": "QQQV--CP1Rg1"
    },
    {
      "cell_type": "code",
      "source": [
        "plt.figure(figsize=(8,8))\n",
        "F1 = -k*np.array(ax1) + np.array([k*L for i in range(len(ax1))])\n",
        "plt.plot(at, F1, 'b', linewidth=1)\n",
        "F2 = -k*(np.array(ax2)-np.array(ax1)-L)\n",
        "plt.plot(at, F2, 'g', linewidth=1)\n",
        "F3 = -k*(np.array(ax3)-np.array(ax2)-L)\n",
        "plt.plot(at, F3, 'c', linewidth=1)\n",
        "F4 = -k*(np.array(ax4)-np.array(ax3)-L)\n",
        "plt.plot(at, F4, 'm', linewidth=1)\n",
        "F5 = -k*(np.array(ax5)-np.array(ax4)-L)\n",
        "plt.plot(at, F5, 'b', linewidth=1)\n",
        "F6 = -k*(np.array(ax6)-np.array(ax5)-L)\n",
        "plt.plot(at, F6, 'g', linewidth=1)\n",
        "F7 = -k*(np.array(ax7)-np.array(ax6)-L)\n",
        "plt.plot(at, F7, 'c', linewidth=1)\n",
        "F8 = -k*(np.array(ax8)-np.array(ax7)-L)\n",
        "plt.plot(at, F8, 'm', linewidth=1)\n",
        "plt.plot(at, -np.array([ rampa_forca(t) for t in at ]), 'r', linewidth=1)\n",
        "\n",
        "plt.text(\n",
        "    at[np.where(F1 == max(F1))[0][0]]+0.5,\n",
        "    max(F1),\n",
        "    '$F_{1,max}$ = '+str(\"{:.3f}\".format(max(F1)))\n",
        "    )\n",
        "array_diferencas = F1 - (-forca_final)\n",
        "indice_tr = np.abs(array_diferencas)[:np.where(F1 == max(F1))[0][0]].argmin()\n",
        "plt.text(\n",
        "    at[indice_tr]+0.25,\n",
        "    -forca_final-0.05,\n",
        "    '$t_{r,subida}$ = '+str(\"{:.3f}\".format(at[indice_tr]))\n",
        "    )\n",
        "array_diferencas = F1 - (-forca_final/2)\n",
        "indice_td = np.abs(array_diferencas)[:np.where(F1 == max(F1))[0][0]].argmin()\n",
        "plt.text(\n",
        "    at[indice_td]+0.25,\n",
        "    - forca_final/2,\n",
        "    '$t_{d,atraso}$ = '+str(\"{:.3f}\".format(at[indice_td]))\n",
        "    )\n",
        "indice_tp = np.where(F1 == max(F1))[0][0]\n",
        "plt.text(\n",
        "    at[indice_tp]+2,\n",
        "    F1[indice_tp]-0.05,\n",
        "    '$t_{p,pico}$ = '+str(\"{:.3f}\".format(at[indice_tp]))\n",
        "    )\n",
        "tolerancia = 0.02\n",
        "array_diferencas_abs = np.abs( F1 - (-forca_final) )\n",
        "indices_tol = np.where(array_diferencas_abs < tolerancia)[0]\n",
        "comecos_de_pedacos = []\n",
        "for i in range(len(indices_tol)-1):\n",
        "  if indices_tol[i] != indices_tol[i+1]-1:\n",
        "    comecos_de_pedacos.append(i)\n",
        "indice_ts = indices_tol[comecos_de_pedacos[-1]+1]\n",
        "plt.text(\n",
        "    at[indice_ts],\n",
        "    F1[indice_ts]-0.05,\n",
        "    '$t_{s,assentamento}$ = '+str(\"{:.3f}\".format(at[indice_ts]))\n",
        "    )\n",
        "omega_d = np.pi/at[indice_tp]\n",
        "plt.text(\n",
        "    0.0, 1.0,\n",
        "    '$\\omega_d$ = '+str(\"{:.3f}\".format(omega_d))\n",
        ")\n",
        "UP = max(F1) - (-forca_final)\n",
        "xi = -np.log(UP)/np.sqrt(np.pi**2+np.log(UP)**2)\n",
        "plt.text(\n",
        "    0.0, 0.9,\n",
        "    r'$\\xi$ = '+str(\"{:.3f}\".format(xi))\n",
        ")\n",
        "omega_n = omega_d/np.sqrt(1-xi*xi)\n",
        "plt.text(\n",
        "    0.0, 0.8,\n",
        "    '$\\omega_n$ = '+str(\"{:.3f}\".format(omega_n))\n",
        ")\n",
        "zeta = np.sqrt(1-xi**2)\n",
        "plt.text(\n",
        "    0.0, 0.7,\n",
        "    '$\\zeta$ = '+str(\"{:.3f}\".format(zeta))\n",
        ")\n",
        "theta = np.arctan(np.sqrt(1-xi**2)/xi)\n",
        "plt.text(\n",
        "    0.0, 0.6,\n",
        "    r'$\\theta$ = '+str(\"{:.3f}\".format(theta))\n",
        ")\n",
        "plt.grid(visible=True)\n",
        "plt.xlabel('time (s)')\n",
        "plt.ylabel('force (N)')\n",
        "plt.legend((r'$F_{1}$', r'$F_{2}$', r'$F_{3}$', r'$F_{4}$',\n",
        "            r'$F_{5}$', r'$F_{6}$', r'$F_{7}$', r'$F_{8}$',),loc='lower right')\n",
        "plt.title('Reaction and Applied Forces for the Triply Coupled Spring-Mass System rampa forca')"
      ],
      "metadata": {
        "id": "Ztai1z2_pNy1"
      },
      "id": "Ztai1z2_pNy1",
      "execution_count": null,
      "outputs": []
    },
    {
      "cell_type": "markdown",
      "source": [
        "#### Posições"
      ],
      "metadata": {
        "id": "WDWJ-Dvc1ZYZ"
      },
      "id": "WDWJ-Dvc1ZYZ"
    },
    {
      "cell_type": "code",
      "source": [
        "plt.figure(figsize=(8,8))\n",
        "plt.plot(at, ax1, 'b', linewidth=1)\n",
        "plt.plot(at, ax2, 'g', linewidth=1)\n",
        "plt.plot(at, ax3, 'r', linewidth=1)\n",
        "plt.plot(at, ax4, 'm', linewidth=1)\n",
        "plt.plot(at, ax5, 'b', linewidth=1)\n",
        "plt.plot(at, ax6, 'g', linewidth=1)\n",
        "plt.plot(at, ax7, 'r', linewidth=1)\n",
        "plt.plot(at, ax8, 'm', linewidth=1)\n",
        "\n",
        "plt.text(at[ax1.index(min(ax1))], min(ax1)-0.1, '$x_{1,min}$ = '+str(\"{:.3f}\".format(min(ax1))))\n",
        "plt.text(at[ax2.index(min(ax2))], min(ax2)-0.1, '$x_{2,min}$ = '+str(\"{:.3f}\".format(min(ax2))))\n",
        "plt.text(at[ax3.index(min(ax3))], min(ax3)-0.1, '$x_{3,min}$ = '+str(\"{:.3f}\".format(min(ax3))))\n",
        "plt.text(at[ax4.index(min(ax4))], min(ax4)-0.1, '$x_{4,min}$ = '+str(\"{:.3f}\".format(min(ax4))))\n",
        "plt.grid(visible=True)\n",
        "plt.xlabel('time (s)')\n",
        "plt.ylabel('position (m)')\n",
        "plt.legend((r'$x_1$', r'$x_2$', r'$x_3$', r'$x_4$',r'$x_5$', r'$x_6$', r'$x_7$', r'$x_8$',\n",
        "            r'$x_9$', r'$x_{10}$', r'$x_{11}$', r'$x_{12}$',r'$x_{13}$', r'$x_{14}$', r'$x_{15}$', r'$x_{16}$',))\n",
        "plt.title('Mass Displacements for the Four Coupled Spring-Mass System rampa forca')"
      ],
      "metadata": {
        "id": "pmYbhgk7z8_G"
      },
      "id": "pmYbhgk7z8_G",
      "execution_count": null,
      "outputs": []
    },
    {
      "cell_type": "markdown",
      "source": [
        "#### Velocidades"
      ],
      "metadata": {
        "id": "Htfi1VF21bQ2"
      },
      "id": "Htfi1VF21bQ2"
    },
    {
      "cell_type": "code",
      "source": [
        "plt.figure(figsize=(8,8))\n",
        "plt.plot(at, ay1, 'b', linewidth=1)\n",
        "plt.plot(at, ay2, 'g', linewidth=1)\n",
        "plt.plot(at, ay3, 'r', linewidth=1)\n",
        "plt.plot(at, ay4, 'm', linewidth=1)\n",
        "plt.plot(at, ay5, 'b', linewidth=1)\n",
        "plt.plot(at, ay6, 'g', linewidth=1)\n",
        "plt.plot(at, ay7, 'r', linewidth=1)\n",
        "plt.plot(at, ay8, 'm', linewidth=1)\n",
        "\n",
        "plt.text(at[ay1.index(min(ay1))]+0.5, min(ay1), '$v_{1,min}$ = '+str(\"{:.3f}\".format(min(ay1))))\n",
        "plt.text(at[ay2.index(min(ay2))]+0.5, min(ay2), '$v_{2,min}$ = '+str(\"{:.3f}\".format(min(ay2))))\n",
        "plt.text(at[ay3.index(min(ay3))]+0.5, min(ay3), '$v_{3,min}$ = '+str(\"{:.3f}\".format(min(ay3))))\n",
        "plt.text(at[ay4.index(min(ay4))]+0.5, min(ay4), '$v_{4,min}$ = '+str(\"{:.3f}\".format(min(ay4))))\n",
        "plt.text(at[ay5.index(min(ay5))]+0.5, min(ay5), '$v_{5,min}$ = '+str(\"{:.3f}\".format(min(ay5))))\n",
        "plt.text(at[ay6.index(min(ay6))]+0.5, min(ay6), '$v_{6,min}$ = '+str(\"{:.3f}\".format(min(ay6))))\n",
        "plt.text(at[ay7.index(min(ay7))]+0.5, min(ay7), '$v_{7,min}$ = '+str(\"{:.3f}\".format(min(ay7))))\n",
        "plt.text(at[ay8.index(min(ay8))]+0.5, min(ay8), '$v_{8,min}$ = '+str(\"{:.3f}\".format(min(ay8))))\n",
        "\n",
        "plt.grid(visible=True)\n",
        "plt.xlabel('time (s)')\n",
        "plt.ylabel('position (m)')\n",
        "plt.legend((r'$v_1$', r'$v_2$', r'$v_3$', r'$v_4$',r'$v_5$', r'$v_6$', r'$v_7$', r'$v_8$'))\n",
        "plt.title('Mass Velocities for the Four Coupled Spring-Mass System rampa forca')"
      ],
      "metadata": {
        "id": "m5PrOZW71Y1n"
      },
      "id": "m5PrOZW71Y1n",
      "execution_count": null,
      "outputs": []
    },
    {
      "cell_type": "code",
      "source": [
        "\n",
        "# adendo\n",
        "plt.figure(figsize=(8,8))\n",
        "plt.grid(visible=True)\n",
        "plt.plot(at,IE1,'b-')\n",
        "plt.plot(at,KE1,'darkblue')\n",
        "plt.plot(at,IE2,'g-')\n",
        "plt.plot(at,KE2,'darkgreen')\n",
        "plt.plot(at,IE3,'r-')\n",
        "plt.plot(at,KE3,'darkred')\n",
        "plt.plot(at,IE4,'m-')\n",
        "plt.plot(at,KE4,'darkmagenta')\n",
        "plt.plot(at,ET,'black')\n",
        "plt.legend((r'$IE_1$',r'$KE_1$',r'$IE_2$',r'$KE_2$',r'$IE_3$',r'$KE_3$',r'$IE_4$',r'$KE_4$',r'$E_T$'))\n",
        "plt.title('Energies')"
      ],
      "metadata": {
        "id": "GyuTsOUSIh5j"
      },
      "id": "GyuTsOUSIh5j",
      "execution_count": null,
      "outputs": []
    },
    {
      "cell_type": "markdown",
      "source": [
        "#### Extremos"
      ],
      "metadata": {
        "id": "iyWOkg8a1eqn"
      },
      "id": "iyWOkg8a1eqn"
    },
    {
      "cell_type": "code",
      "source": [
        "print('x1_min = '+str(min(ax1)))\n",
        "print('x2_min = '+str(min(ax2)))\n",
        "print('x3_min = '+str(min(ax3)))\n",
        "\n",
        "print('Freacao_max = '+str(max(-k*np.array(ax1) + np.array([k*L for i in range(len(ax1))]))))\n",
        "print('Fx2_min = '+str(min(np.array([ rampa_forca(t) for t in at ]))))"
      ],
      "metadata": {
        "id": "4y5WYD_e1fml"
      },
      "id": "4y5WYD_e1fml",
      "execution_count": null,
      "outputs": []
    },
    {
      "cell_type": "code",
      "source": [
        "print(np.array([\n",
        "    # nolds.lyap_r(a)#x1),\n",
        "    nolds.lyap_e(ax1),#,emb_dim=28,matrix_dim=10),\n",
        "    # nolds.dfa(ax1))#,\n",
        "    # nolds.lyap_r(a)#x2),\n",
        "    nolds.lyap_e(ax2),#,emb_dim=28,matrix_dim=10),\n",
        "    # nolds.dfa(ax2))#,\n",
        "    nolds.lyap_e(ax3),#,emb_dim=28,matrix_dim=10),\n",
        "    \n",
        "    nolds.lyap_e(ax4),#,emb_dim=28,matrix_dim=10),\n",
        "    nolds.lyap_e(ax5),#,emb_dim=28,matrix_dim=10),\n",
        "    nolds.lyap_e(ax6),#,emb_dim=28,matrix_dim=10),\n",
        "    nolds.lyap_e(ax7),#,emb_dim=28,matrix_dim=10),\n",
        "    nolds.lyap_e(ax8),#,emb_dim=28,matrix_dim=10),\n",
        "]))"
      ],
      "metadata": {
        "id": "j_L60monsmlJ"
      },
      "id": "j_L60monsmlJ",
      "execution_count": null,
      "outputs": []
    },
    {
      "cell_type": "markdown",
      "source": [
        "## Entrada de Rampa em Deslocamento em $x_3$"
      ],
      "metadata": {
        "id": "ABufl2ptOXH1"
      },
      "id": "ABufl2ptOXH1"
    },
    {
      "cell_type": "markdown",
      "source": [
        "### Entradas"
      ],
      "metadata": {
        "id": "kqUll5M7PFRx"
      },
      "id": "kqUll5M7PFRx"
    },
    {
      "cell_type": "markdown",
      "source": [
        "![image.png](data:image/png;base64,iVBORw0KGgoAAAANSUhEUgAABaAAAADCCAMAAAH/faWaAAAAAXNSR0IArs4c6QAAAARnQU1BAACxjwv8YQUAAAHmUExURQAAAJ+fn+zs7CwsLAAAAO3t7QAAAMfHxwAAAKGhocjIyAgICAAAAO/v7wCwUAAAAAAAAPDw8AAAAAAAADAwMKSkpPHx8QAAAAAAAMvLy/4AAAAAAFhYWAAAAAAAAH9/fwwMDAAAAP8AAAAAAAAAAKenpwAAAAAAAP8AAAAAAM/PzwAAAAAAAKmpqQAAAAAAAAAAABAQEP8AAF1dXQAAAPf39/4AAAAAAAAAAAAAANHR0QAAAAAAADg4OAAAAPn5+QAAAAAAAAAAAP8A/2BgYPr6+gCw8AAAAIeHh66urgAAANXV1QAAAK+vrwAAAAAAAP39/QAAAIqKitfX1wAAAAAAALGxsQAAABgYGAAAAAAsPAAAAP///wAAAEBAQI2NjQAAAAAAAGhoaI+PjwAAANzc3AAAAP8AAGpqare3twAAAAAAAAAAAN/f3x8fH7m5uQAAAAAAAAAAACAgIAAAAAAAAG5ubkhISJWVleLi4gAAAP8AALy8vAALBUlJSQAAAP4AAHBwcAAAAJeXl+Tk5P8AAAAAAAAAAAAAAJiYmAAAAAAAAL+/vwAAAAAAAAAAAOfn53R0dMHBwQAAAE5OTigoKAAAAP8AAHZ2dsPDw1BQUOrq6v4AAAAAAAAAAHh4eAAAAFJSUuCLq/4AAAChdFJOUwD///8u/xv/CP///yP//xBR/9M+////rRj/3wX/Rof//yAYok7/jyggFf9Wl/8CQzD/KP9x//cd817/n+D/OP8lpxL/////QP//r/9b/0iJ/7f//w9Q/5H/v/8q/1j//8dg///P/2hg///XcLH////fizf/eOf/////gHj////vn/8G//+ANHW2//cO/zz/av///5j//3L//////79nE/+VX4YqZgAAAAlwSFlzAAAXEQAAFxEByibzPwAAKNJJREFUeF7tnYuDHUd15luBkGFteXgYewDb8mwSySZaW2JXi7wS0g42HiKEQNhaeeLrQQJhsGSRIbIMO2R38Gxik5Hn2GSxFZP1g/9063H6XdVdVV1VXX3v+YFuV5fr1j339DffrX5VZwRBVLmISxO2cWnEMVya8z4ue4HsJJb62WOtjdmwaSypRTJr8DTWC3ZwKcEWJVgvuVaLA1sUPIv1yHbAoOsJwRYlWI/YBG2c6eXipQp2WiCCFpLbKF7wTdiiRNSatcWgW+104F/IOd5ug7+sygoJdlogM80iWeWdixfxJga2KBG1RduNrrYy6CXepOyzEsg/4xKp/FUvs9bZci1mTdDZMd5qQ7zwNwmwRQnWy7a8mb5tIY+yz2og+piVYKcFdU3XwBYlWK8CWxQ0NV2nEXOvIWKnAAdkoT/oQ/DjE7KE9SpkA9YWu+0OWvAVXBog+2RRz2Y/4kuDoFnjR0UJ61WI/y44wHougz6FSwV3cYkAgqs1RMcM1rWI5OnepjxoUZAtu7stgsa2OqtDgRyWiz5ExxIZNNYrEI0kMmqsVyH+u6SWaU3Quai3sztY6kT0W2HsP0T4KhaqNL8qdlrgGHRft7Wgt3BpTFNV2GlBNeg187FHX7f1oDUi0QLZS1iSYKcFzpmuB4ItChqZtowaXsruxWIve5A9iMU+YAULJmxVfgtNMQ46y87j0oQncGmEVWOCIAhHruLSAJtfAKtfC9sfxOyq+TvgCBYMYL9Z5kD7IFBj36WBxbdkTV/EYi+s7bew2A9ku1jK6Y65memncWxQgPUcWK1/RWxRgNUCuJA9j0UBNinAagk09l/u9sTcpCvoLLtsHHSW7Z/GggCbFGB1DnwaC4LGjlYv3UHXwRYFWK0EmxRgtRoKugG2KMBqJdikAKvVTDVoqz9FDBoOgdzBNgj6OwfvkQWsViJb3Hzlof5uedB29pEHPZvdkiWsVyEbiJbf5UusViIazm6y/83+nJewuk7uTUrLw+MkdYeWtILWN60GLfKHTTvaiqA/z0vYtN62CBqXZU03bpp+XQSN1UpEM8EHv+CvWF1HFbTJCZNR/xDzIxQV91BvtwZdQTffjy0KsFoJNinAajW9lnf7HBYknUE3osYWBVgtWLFomy01Grctr/uoenemiwP7AmxRgNVKsEkBVqtpWV4z5usmopHAOhYMYFvlVSz202zctLy+sxceMT6nyqk17tV0ivxXXBIEQRDzgcWhPQvMhwp2hOo3ZM+IxeFIC2DpGpb8Aqsd1wMMAl6+gKUO7Pa+6/BEf6LdK2uNtZtoTpTCEt+P0p6ZxzfrwXYtYJVvQO1ZQny3lo7T83CVj4b1qmvvpbjgPdGCp3DZBt+sB9tpcN6A3ddBMOoXAlSxPRRtyaBE68E368F2tuC7tfQmWo/DjpW4nlCQX/NXu6Cvhk2i80vSxGWCjVL5SQJ8sx5sJ2j3Ky5YxJJVv7VEi2saBao4mxmRie6UtWpPnHcnO+elZqd4lJCDEWqpKZqnRPbF+y5L8pM2sEvGQXy3FvGGgnq/2FtZwk4Zff22FM17aPZcZqTS8zJPtHWazSHryOk54D/0uBIlOkdYR7gfxHqimZHI/5f4SPR77W6xnS34bsnNm7PZT2azt3GVMyzRMs1fudtC1A9Dlehbs5/Ly485PhJ9KD/h9ABWeEq0/HdgNvuSrGgnumNnrfmf5PCuKmnWQj8atEVjHX4TnfNZXDKwnS347ibFBhySaPav4Ry3+UtHFzbMuUdbJbpp0KzF9exxk1OdBtCPYY7OiE0T3aN810T3dItv1oPtmvR0OyDRvZf4m/zidY3xWOhd95IMSPSxjpuX8M16sF0TWOJ3Z+rBd2vpSPSZns0oEt10jxrdQ2mekWz/H3DNGzzmC3eyfbnmDd4t+9e8XNIDXNGdPbNED0hzjsWNDDbwvMwL3Ufvhu4YEgUmHk0QBEEQBEEQhF+mtfNmcaW5JaEugCqgREtiJLrrcJg7QbYgS3QgZbBEh9Vcc7YQX4TpdT1YNk4FzjPeyuR9ChDe62f8h77Ou/xciJSc4p3+7kO54kpXYFLR2kTjAXM92K6F+MxfimKb+/DNWu7Dhk1Q0brZDJ7Ft2vBdgq8KLo70fz//hPNe9UeRR+QaNbv+dqN/lUGJZr1DPrrX5HOg9L8O/cQINFZx/xMzolGvoDLJgMSjahmLavQnWeD+UGDJBq0N/AOS7S228GJ1vcs6cmzgaK1YIB6sJ0dQxWtY7iiO+nLczPR5dnpsiQvWOXUz4ljgHqwHaN2oXI3Vom26Hd4osuMtK8N6M1zS9HtTKuu8RZggHqwXfXydnltMacsVT6TYZNoVb8Vav3aJbq8OUgRZ5mRnP48t62jmWn+QbJf/lr9BAxQD7Zj+ci1p8xzPSMWiVb1W6Par1WilXluZyTHIM8Kj65nWn5QmeNL8iJ3znGMUIt4Qw7PSBl1IzPHsEsOvllLw6Pr/Taw6Rffwsn/Ttpxsn+yqpIHs585RatqpvMPariGAAPUg+2Q5UrU2sw4/BhW++3AyaNbPZcZscVscyjBAPVgOzsmOurohRKdg+0CYf9AgxIMUA+2s2M+E+1xh+Xj78DBN3B+MwTb2VFPNPD51eRc6jleEg23fnw/6xrXBNhuIOqrw9o7LDZggMj94k6T2kgE29nRSHT+/xI/iW73i+0GgTcIVeHVqh0WCzBA5NBstilC/wFWeEz0rdk/lTnxmui/LfvFdsN4TKVo9Q6LORggEjbRs9nvZYV3RT8nKzwlGlm5VDkJKPLMfwwrN9sKTCcCxgARRaKxP4lpr5pEn8WKRq8Apmc11Yn+kpjoUID9FeD73IDGpDIhjt55VXTOn3DJ8Dzq+BQuvSq66RQ+fwwLgiSaKQxLfhNd2TPHdn6A7EzlbJ3XH0MF2M4OdaIreFZ0AbZz5ze4ZJxZYYktziL5/TFUgO3smGyim4fwdnOfL34MXcEA9WA7O6aa6L5DpR2J7puMDQPUg+3scE50z22XAxJtIsbeQ9KU6Bxsp8Ag0f2H/jsT3T2YxAD1YLsWnd26JxqA/dJrGZJogJexqMHgFEtXote6NyYGqAfbNWG7GB3dOiea9dkV7TBFi1khtBjkuSs2bh1doWOAerCdgo5uh1hHl9kF9uheehMNuovknLnAu31Ce/GdK+ybcN15yUod1iU/Dzys565E75zZW9FfjejM2oVr/FlJFs9WMuL2I9s7bPT6OK56BNZusDQN7Ll/M3lPtGDX/AFPdgzTXReDejbYYQmT6Cdx6ZkPgyV6WM+Djt4RxrCBR5ibVIgacoBHhIbyHAfKM0EQBEEQBEEQBEEQRAn0XfeREhM77C4meZkYYvqYKUOCDgcJegRI0OEgQVcuNY8FF7TxfTpjw5K9DO1JA1KFC/oMBJ8+0itc0IehnK5hCN1XMgYCru5Nx0cgg95nAyXEOizDRSxPhVNwAS5heRijyLki6DcBrGfUfHo42JMZTNDix+TOJ0/snrS9svK+4WBPpnBByz/Ah7OPoGeuvRbPDgY7soILWvymvP989pZu4kEDBsvZ1WbFkEO++aS9oPG6b3dsBc2GHPi0zP135NKY3qvie7EXNJ8Jij+yn7Fjm93eq+37cBR0lm2DvE7ojss1sWKmAg/u7CrobTFc2ubfIH1Bizwf276RZV+0/77xBb0q4r20zX/CvwG2l76PI+hLIubXtvm0Xm9pJ+HtgAm6kPMAXQ+5ZzYnfUHn3Gvrzpz4gq6xb2t34wi6hv0glAnai5zdHXoQYwnaiZEFbU0CgnYhnxxpmJxJ0P2QoKMgBT1Uzn2CPnysnG82Z6Ndt7raPsirmi02J4ygFcGqAlMGq/ieOcEEbRivKpFd8YYU9NKScz5VzapwQRdytj+xgnLuFjS/7TlrhCaiqtetivl96+HKNd1XCCFoRbCqwLTBaiUSSNCG8co1m3jDCXpJzFpej8Uwn6pmde6Wcra36ULOXbfLioxzKqEVEZV1MlROGa6qVMW/oBXBqgLrDFYjkSCCNoy3s6SJN5SgpZw5ZSyG+VQ1a5KPoYfJ2XAMjaHVopF1Zagc2UAfdE7QMbQ+MLdgQ4+hTRNpGm+MMbSMojdm1VfTgYIePIg23ClkobVSeWy5HWrXyLkk8E6hOjDXYMPvFJom0izeODuFhvlUfTU1QtCD5UxHOfoJL2i/xBG0d5igSzlb7xSWow4SdB8k6CiUJ1bsfbo6iE5O0JsHTtyC4ydmB1+A4wexrk0igq4G+y7WtUlG0O9uzv4a4JnZ7ADAr7CuzWgOLXEfdghdJydoOfc7ANeHPuuJCLoW7Dd5WUUygr4JL7DXN0TUb8MJUddmVEHX5PwVfGyNEWjT6Qn6DfF6P3+9VT7YoEEqgpbBcpl0BJuQoMUCxJNm4IBYaRNG0H1CU+wUPpY/h8mAYtSRnqAPiddN/so18mWA8ukiBakIWgbLH3PEg33g5z84+2jxXKKC5AR9U7wyQf/97M/g26KuQp+g3SRjIOhSzuVO4WO45Kyv89el9SWxVqWQc4I7hU1Bz2aPTkbQnA9+LRZV0hU043gruyMJupSzdhR9kXVyod1RRc5BHZo/xEsLJs+EGILGqNTgZ5rwr6rGIQSNoanBzzXhf8K/Y6kgiKCbD7mrwW+4LsYWWjkzjsE5vE9DhRB2QEHr6XLoNgk7dIOftt2Zk4xDq/igeCRkzmhDDk6XnLNsBW5fl6XLrf7QpycgaBVpClpD0oJuM6Kgu+WcXWGdyPkSIDspagqKYUf35+BPgiPYSZsggsYPdQQ7URBK0J0/wr2I/SMlwQQ9LOBuodV3CjW6ljuFq+vZ+XeyuqAro+i+zwkCOXRAgjt0GGxvwaoIuiLn/l8CNVeH/R3EFvSgaKMLeuAcIqMIemuwMeY7hWZyViKETYLugwRtgC9BD5UzCbofErQBfgRtOeqoUgw7XAW9czjLXoLixgs7ogt67To/5OP2XeML+jasZNl1/uLCSILmD09eGzAbWPhbsLrIHdox6dEFLe8egkfEwpL4gpbJPey2aUZ16AHzpuZj6GFyZtmTRUsKQfPbEV61nvkJ56cbAvZkRh4t+1UxOIDUAOenGwL2ZAgOObigL7NobefiwwnqBoAd2VARtEvMDBS0vZwLpK4tty5yVU5OK6dAvDfM4309IjXMrwTgOE29FhEQv3tL+c+3y7xa0dmS0cJRseYSsxD0YDm7Czq7Avl0ghMQNLM7uC3v9M0edJkPLCawtcxMTkqDFUI9H90rzKF3AOcAdouZCdqDnL2cWElf0BU8fN/I7NjOp5sADjFXrrazpjqIXjBB8wGe49GOMXgT4GEsTgbHmIudQneErqfnWMRcMljQhU0TxPQhORNzBMmZmCP8PHuLIAiCIAiCIAiCIAiCIAiCIAiCIAiCIAiCSIVxphBzZEJX9AvkDZvTQkyJO2FI0AEhQceHBB0QEnR8SNABIUHHhwQdEBL013EZDyHoUzjFVuoIQe9A++FJiSIEPbG/QiFo6HgAig0DZjRwhQt6eyJ6FtrYmo6ehaD3pqVnIWg5kdZwRtAzF/TVyQybmKA3AOdNmgJM0Lcnpmcu6CnrmbvzZPTMBH1qSnpmgr42od8TCVz19Zsyip6ZoIs9l90JzNWY//G9Bd+XhaRh8crpO3d/Bx+KQvoU81F9buBsfOPomQl6HU6J0qtgL2icEncA2JEZ3KHFcH/nxeyvrH0Ep8QdAHZkDHdoPk9x9v7z2VtfEFXm4JS4Q8CerCgc+uHsIxgwG99IeuZj6EtC0fsvOkxtN3jCc1tBZxchn7xh5wksmDJ4wnMHQbN92HyMZPsHOHi+c6cJz8UYOg/1vMP00MhYeuaCZnuFwqMnIejsWq5oW4GMI+hsBxVtPZn1eIIuFG3tGQWj6VkImr3wKZimIWjmeULRl61nhx5H0NkeVzTAU7LKnBEFLRJ9Hk4/L6vsyfU8gq7XxWxiN7bZUC99QW+LYMXrySd50Yr4gt4Wu7Ay6rdsJ8MfSdDb3C6WRMzfgMdFlTVe9Ow+3MlJX9AFu+DwYxhf0DVs5w4fSdBV7tjuyEq86Fm4wDAmJOjGA8/NGFnQtn+DCQh6314RjFT0PCVB89n7rZ/QNKKgebifxrIpIwt6n4Xs9JijZPTswliCdmJkh7YlAYcewiT1TIIOyLQFPU09k6ADMmlBB9dzfr1GFUXdMdWlPx2XA4URtGFgqrrDuFQRTNBh4g0qaNP4VLpRNGsSXM9LS+3IVlfbdRvtL7W6qvqiSBBBq4JVBKYOVrUFkFCCNoxXlciueIMK+rB7PlWbokGpZ4c7Voz0fIHFgeWc1dV2HVtvRsub6b9BCEGrglUEpgu2+daSQII2jFeVyM54Qwr6nHs+Fc2alHp2cOpcz1265ilvRsZjbdaJtXq0spn2GwQQtCpYRWD6YOtvrRBG0IbxqhLZHW9AQTM9u+ZT0axJJD3XI5Ox1uuwXI02b6b7Bv4FrQpWEVhXsNW3VgkiaMN4VYnsiTecoIWe3fKpaNYkmp6rkeWxVuuKUhlt2UzzDbwLWhWsIrDuYMu31gghaMN4VYnsizeYoFHPLvlUNNMTSM/VndI8njLWsq6Muoi22uzYBj/b1eIg5s6VpqAVwSoC6wv2EkZX53/hZzqjELRZvLVEGsd7HD/WmY6dQolpPlVfTZ6tbVK5WzyUnmvIiKqx5nWVWPMvVW+mJMhRjhxtYI7BhjrKkWOYSNN4gx7lQEzzqfhqfTjoOcdczzKmZi55XSNW/qUMJBJW0LrAXIMNLWjTRBrGG0PQxvlUfLVuIumZR9XO5UY71mPLJhIJLGh1YM7BBhe0aSLN4o0iaON8Kr5aF9H07JnAgvZLeEF7JY6gwzBVPZOgAzJhQZd6tj5TWOp5+B0rDpCgwzFdQZd6tnbqUs/jODUJOhyTFfSE9UyCDshUBT1lPXcJ+pXN2SGAQ7PZxwDPYF2bRARdDfYhrGuTjqA3H5p9E+Dd2ew9gL/Aujbj7RQK6nr+GS6NGEvPXYI+AN/cfPtX8PELL3zvY7gfK1skIugDsMmDfeOF4yzYF7CyRTqChltw6CcAM3joe7fga1jZYlxB1/T8s7t3sWTCaHruFvQf2ev9cA97/RhElYJkBF0Ge0gbbEKChhPi9XviVVQpGFXQVT0zOdsIejw9dwuav74Cz7HXE+kLmr++Lc1uEoIuXze18Y4p6IqeH+Ny7uX/YesYetbPItcr6Jsy29qcexe0PtZ+QefB3hSLNkEErQ24e8jBX2+JeJ/RJndEQdfHz7/lisVyL1Z6lhPn2uJJ0Gd/L8o1OgTtO1YrQf8Q/k2Ua/QI2nPANoI++7/hX3i5zniCruuZwSSNpT7s/Lljc3fgR9B/ADtB+47VRtDHvzv7H3KlSo+gPQdsI+gffX72w0/xlRqjCbrUc3mm8Le45KyviNd1sVKn1LPRmULfIrEQ9Aff/el0BM05/gOxqJCuoDm4qDCWoEs9t5xaIh48swJC1nVKPZs5tW+RWA05JiZouVIlaUE/0M7uSILu1TP70jfYv4u4UqGtZ7xxQAs2s0P/ruGCxrhU4GfY0fEuO0G//muxUmET49KCn2OH9l1Wggb4LC/X+TuMS0eYy38M9JzdgOw1xRe39efOza1HffMVcgCTZ0AMh/YV6+zRf8RChRAO7S3gH/4CCyVBHBpDU4NtJHo9Z9neOdWAo8BUz24573hXh0O3SXjI0eQstAbQjHSGHCqOfxsLBeMd5eB06TlbgitYUj2JwVjP3kUyr4J+FJd10hZ0+29wVEF36jm7vZE/wBHagjbXs3eRzKugxe8nP8dZI11B83D/G5ZLxhR0t55fhuya/OI7/70laAs9exeJlaBVJCpoNWk7dJsRBd2t5yX+tEl4hJX237m3KWgbPXsXCQm6gueApyzoQs/qW7DE9B032KBj93TWFLSZnjv3pfvBXtqEEHSoWIMJGj/YFeylRThB4wc7gp10UehZbdQr8hTh+jr/a24IutRzwHsKK9PhNAjp0G7oYw3u0G5oA56uQ/foueRB8RdSfdRWqWerkYc30hN0B2kKWstkBW2sZ0HNocfWMwk6IFMVtJ2ea4L2oGfxTGR3IgvaaACnJbagVwdFO5KgwWQOKiPM9KzGXZUkaAtI0BaMo2cStA0kaHNG0jMJ2gYStDFj6ZkEbQMJ2pRczy66HqZI2F7nhwL5LMEuRBf0Mo+2eAyEHSMImp8k2sJVW8YS9GEW8x6uOeJFz24nVmCNX/W04+ol0QXNL0q/Asdw3Y74gt64wraLqzpGEvTa7SxjtoGrTnjRs6NRY+TF1amWRBe0uCrcMd3xBc20wR+g0nUpu56RBC1yuwSXxJoTY+o5g+tiseX4FznOGPrGVAQtfzXhZbGwZSRBy2CheFSWNaPqWV7Dl2WnJiXo9akIWi7BbcKOUXcKh46ix9JzfpTjOs/9m/CEWLHg6cFgR2agoK+yxXk2nn5KrBlz32CwI0MKQfNbnAFOyzVjnh0O9mRDLuiLTjGXuOi5wF3P+ZCD74rDJyetBR0ZFDS/2eFv+Gra8a7KwfMSjjweDHg9pD/yIQf7I2Q4xzyWnlEiZ2TqJyBocXwDs53tpC5ocWko3muUXX5cLtNGCuLowJhH0zMb38HLq4fRpycgaDi88hr6dLaLy1RZhY2d9fUtkJezv+n+8x0TWINLZzbgNbHiGvN4emZj6GNMJbgbPgFBL+0BrMmVzyQ+4uBj6FMAW+LuZjbk/76oTB1Y3QbYEyMN55i96HmYriXJC7rK+59gYSp8sXk36ARwijkZPU9K0JefxMJkuFO91WgiuMScjp4nJejEx88N9leyjwJNJReMMWL2q+dpCZozGYnsXoa/fB7LU2GEmD3rmSCSgPRMzBOkZ2KeID0T8wTpmZgnSM/EPEF6JuYJ0jMxT5CeCYIgCIIgCIIgCIIgCIIgCIIgCIIgCIIgCIIgCIIgCIIgCIIgCIIgCIIgCIIgCIKYD9a3t90euk30sL1NM1QEZHV7+yoWiYBcIoMYlW0A0nkQIH9wHRGCdYANLBIBOUUGMSpk0KEggw4KGXQcyKDHhQw6FGTQQSGDjgMZ9LiQQYeCDDooZNBxIIMel4pBs02xdwHLxGBKgz62A3BxCVcIP1QM+ipLNZ2QDURp0EsXAXZSOmH4z4MeRj8RCoNmBbJnn+QGvbpF9hyAwqAv7AEcFSUiAIVBswLZc3zQoPkghOzZK9Kgl68BXFuWNYRH0KD53skpWUOEAA06tfHbgtgzGjQfhOB+DOELbtB8r5DsOQjCoPneCdlzUIRBs/Eb2fM4MIM+ygYhZM/eYQbNxL21iquEX5hBX2N7J3TwKDBMw2uJjd8WyJ6FQR9u7SW++Sr88gksE45Ig64OPM6zKs5TuE4MAA26+gN4Wab39BFcJzyABl0xiJHTPLY9R95jKw5xFJ+7D/DJP5yMYNBPpwDGEgCm4Sy7yCx6HSvu/I3M6X7wX7/7UgBjCYU4xLGyxSx6BWuQ3QchsHU8mwIYS3DEIY6XmJgbJ2LDpznnt7gUjD96jnzxrDBoeZKw8tNwbxyDno1NcIPOltgor3Hy+85OeIPG7zcecQw6y46w3b/GUf7Lpx/HUiCefRa/5HhENugse43JuX4pY/A059zFJSOFgxvjGLQolFuADHo40qAzMcqrWnSEoccCGTQrsN2/0qJ333w1uHEsokFn2dGqQcRIc05h0C17/s3XsRCTsQy6tgXIoIeTG3SWrbJRXm7Rn3kQ3gme2oUy6Cy7xFItLFoe5P/+t2R1MBbToLPsHEsuN4hIac5Bg27Z80jD6cgGrYYMOgi778MnMWS9CAat54vwDpYCsVAGrSV4mnOEQadiz2xEi4VRIYMOwWV4EkuBWWyDvrPzha9iMQxk0Jzgac5hBp2OPW/TCDomUQ36fCx/XlCD3v9whYn2o/ch/FUc+CXHY0SDjpbmnLsp2TMd4ohKVIPG60c5gaW9mAa9+ybP8F8+/DyuB2OxDTpamnMqV3EIRrXnRAw6Cot3DDoWi32IIzh0iCMqdYMe2Z7JoKNCBh0KMuigLKpBj27Pwwz6sOG8PIbtTLtzZEoG7TljgTM7PYOeVH6na9Ce8xc2zTmlQSdgzwNH0Mc2jFK2+n+N2pk22zb82AaTGkGbfUXDjHneAC0mOIL2ml9TRTrmd8Ij6HEMwlHGSG7QSdjzEINeOnfBaAusbqyatLNpZrrha0zHoA0za5gxzxtAwdQM2m9+TRXpnN+pGvSIBuGS5hxp0Ap7juLYDXtmBu14hl9kn9OTCylfRnc722YOm2AqBm2YWcOMed4ASqZl0H7za6rIAfmdpkGPbBD2ac7hBp2MPW873qhSZJ/TkYtSvgx9O5dm1ptgGgZtmFnDjHneABqmZNB+82uqyEH5naJBJ2AQtmnOuZuSPbsd4qhln6PJRV2+DHU712aWm2AKBm2YWcOMed4AWqZj0H7za6rIgfmdnkEnYhB2ac65m5I95wa9Ie5nMGJnea2RfY4iF235MtrthjSz2gRJGDQmUYlpZg0z5nkDdDCiQW9i7gzYWc685tdUkYPzm4JB/x0m0YCUDMImzTnVy+wEY9rzwKs4qjRyoZYvo95uaDMLpnOSsIFTxmJmdmonCRt4VqT3/E71JGEDz/r0nuachkFHsees+fzy0q+9GXQtZZ35Ktv5aGbMZA3aIWNxMztxg/auSM/5nROD9q5Pz2nOqRl0HHtuUh1OezToImW9+ZLtfDUzZMIGbZmx2JmdvEF7V6TX/M6NQXvXp9c051QMenx79mzQLGU3suywQb5YO4/NjJi0QdtkLHpm58CgvSvSY37nyKC969NjmnMKg07Bnr0bdMJM3KATZi4MOl3myqDTBw06DXsmg44KGXQoyKCDsnAGrbLn8JbdtudEnqgSBTLoUJBBB4UMOirMoNOx50SeqBIFMuhQkEEHhQw6Ku0nqjDGsmc6xGHMwbefw9Js9u7b72LJDjJoFT4ySwat5+2/wMJsdqKSahsW8Bh0lfHsmQy6lwMAh27ej3dJ/erE7LlbWL71NWxhDhl0FZ7Zg9/EbFYz+8Lb2MIcMugWN5lEZz/GlN66OTvxRyzf8xNsYc5CG3SXPf/sKwo/90Hh2GTQPTAbOQ4fi+LHTNx/hPdu8vLXXgD4nqi1gAy6SiWzh0Rmb4nhHc+stYWQQbdgBn0PbB7kxVfuAXgG7hF65T+Jf+QFGxbYoPX2zMyZg2teqQyoyaB7YDYC+Vj5/7DyG1j+GsB7WDSGDLqKLrPv8qGfJWTQLZhBFz90z7Hy/VievQcgxhgWLKxB6+wZzZmDNR6pHe8YYNAWMyx55yLGYIG7QRcDDmbK92BxNmOjEiwZY2bQE8vrEIP+FRaFm5zA8uyWvYNYGfSYCV4/hUGYM8CgsShS+goWZ88AHMCiKbYGPTkJV6g4rnb0/Nhv0Z0ZWOWNxuHoiY6gHcIecAwai1zzm1gUmseSMemPoJ3kMOAYNBZ5ZstRc2iDHhX7DA85Bp1TTWkEgx6ToY5WOG7PqcHcpHHVEw179mrQHrvqxeGzwhn0l/8Av/8BljtxM+jE8xrMoL+EQ6LPytpOhhl02hkOZdCvy/T+wuDCjqEGnbyEK6Dj9tizhJs0Fr3QsmevqUt8KwQy6A8Afv4fHiWDtqfHoB/4TzKnH5j8+pFBt+g1aMnZP0G/Qy+cQavs2ciyc9Yqx1puGB53Udiz1zsJE98KAQ9x/JQM2oG+ETTywHEyaBcMDXr2+i/+HUt6FsygB9sz4yrAtSVRYl59VRS6Udqz1zsJE98KZNAGOH1WUIM2GuGRQbcxMuizX/6DgT8vlkH7sGfG6h7cZg69dB12VrCqA409e01d4lvB0aBf2dws5Pzu5mZ+Ldhs9tBmYdZk0C40MvsQFkVm8/sJ/+lP8GuT1JJBt9CldPadzU15RYc8yP9vfy5WOlnAY9BVHOyZcwX2Vlb2jA5vNJ+owkDL9pi6xLeCo0GbQAYdhLM/gp8buAeHDNqZf4VfY0nPQhu0oz0ztvkPoMnhjTbFiNpj6hLfCmTQBjh9ViCDfh3+EUv9kEE788DxT30bi1oW2KDd7TnLLnGDPoMrkntPwjtY7KBywMNj6hLfCmTQBjh9VhiD/pKFP5NB2/PBv7zLRPtnPwK6iqNGzaCH2HN2EfaO3AB4BFc5+/BfTvYadO14tMfUJb4VyKANcPqsMAaNl+ly+h2EDNqas1/mGf7Pf/95XO9iQQ16kD0f2YPrS1l2BsRCcvn04/f2GXTNnr2mLvGtENCgTSGDDgUZdFAW0qAH2TM//rwmCis7+WGOOzu/fCLrMeiGPXtN3TouY+AQ9mQNOvG8zoFBp53hOTDo5CVcAQ26bc82hr20BfAylrNr8jDHZXiSvXYadMuevRp0TBbJoGOymAYdk4U06Jh4Mehh9qxiH9jwmdFh0Ap7nuwzCZdxaQEZtAEOeSWDtsI+w2TQVjhJuAIzaP/2nO0+KE+nCL7wVaytorRneiZhVNI3aCfIoINCBh0VxZ2Eg+25gmYErbHnyR7icIAMOhRk0EEhg45K5SoOiU971hl0lDsJe7kKoPidiMWcGzTbc8JSdObeoFcBtrA4Agtk0FsAq1gcjYZB+7VnY4oRNRl0RMigQ0EGHZSFNeix7ZkMOipk0KEggw7Kghr0+PZMBh0VMuhQkEEHZSENumXPv/k6FoJSs+cxDHr55Y3bsPHIJayMxkIY9JlT1+D62msGE9B6ZFEM+sLadbh26sbQ67hsWTiDPnL0Ctw+tz2SVaNBt+w5znC6Yc/xDfoSwN7GI2tsS8DWEayPw/wb9NI1YAZy+AorwmtYHYOFMOgVJtkrR4+yFMOe2wySriyYQV8ENsR4RDwXXN4rHRlh0KnYc9wbVZhBA7yEK0f2mjPxBWb+DRrO4awsS0zk52QxBotg0ABHcWWZefRhLEdhsQwarud7KI+w4QYWY8IMOh17jnujCjfocud7hQ1FsBiF+TfoyvY9V5kKIDgLYdCVUTNz6AtYjMFiGfQpLDJei/xLKGnfqDKiPUc/xFEd17G9mJhD6Pk36MqR50sx9w8XwaCrY4nGHL+hWSyDrlgCS/t1LEakchWHYFR7jm7Q1TDYfng+y9Xu+3ImkZAsxEnCnAv5b+Fn3joJ8P0XRTkUi3KSMIcZtBjZ7X7udyzrH35LVIZj4U4S5uRpj5RnpG7Qcey5fSdhYdiRDbo6rNtBS3nzVZb+GAadABhLAOoj6G15iOPOzicvPpHt/tVJCHlC9r4UwFiCwJxiB4ucc3iI4/2Hn8+yj95Sz33jj2dTAGMJTH0EzfxCHPiPlGekatCR7LlFZTwd2aArRsFkLsYh+5+8mN17MrxBzzkst+UBu3UQj3wvEFOFE64wg64c0mcD6NrJq/NBf/0WCmbQ5UFQnvXqyDJSnkuDTsCe4xs0HJXGsc7Gz6WhkEEPhud2Sw4/+EUcNX/O9k2eVEno4FYB16Q98Is4av5MP37+YAYNO3gC9hTAXvV6/lh5zg06CXuObtDbF/a42DlrFQshgx4My+iSuAKac7t29nX3MvnzIPjB0JXrmNvcqRnn2drpp9j+N+EHfgya7VlLdop72aLmWRp0IvbM/q7j754duXCj+QgcMmhPLK+/fKlxB9YXT4pH7RCDWVm/caF1j+Y33oLTj2OZ8MLS+tWXWrYULc/coJOx5+1EnqhCBh2I3QfhKcpsWO7sxDl7tehEyvPdlOw57iEOPWTQYeh5hDDhg/xpc0RYIuX5bkr2TAY931yWR/M48Q9lzTv7mNnTn8YKIgiR81y9zC4eGntOxaAJgiBSYBSDbt6oUvo1GTRBEETOOCPoGtXhNBk0QRBEzugGXT/a0bpsiCAIYmH5j7gcidbBaIIgCCIFyJ4JgiCShOyZIAgiScieCYIgkoTsmSAIIknIngmCIAiCIAiCIAiCmDpZ9v8B5xsA9eO4aB8AAAAASUVORK5CYII=)"
      ],
      "metadata": {
        "id": "06_dhQy1PwOo"
      },
      "id": "06_dhQy1PwOo"
    },
    {
      "cell_type": "markdown",
      "source": [
        "#### Rampa em Degrau de Entrada"
      ],
      "metadata": {
        "id": "MYdpyDIeU-wI"
      },
      "id": "MYdpyDIeU-wI"
    },
    {
      "cell_type": "code",
      "source": [
        "# rampa de deslocamento\n",
        "# def rampa_disp(t):\n",
        "#     if t < 5.0:\n",
        "#         desl = L1 + L2 + L3\n",
        "#     elif t >=5.0 and t <= 10.0:\n",
        "#         desl = 3.0 - 0.2*t\n",
        "#     else:\n",
        "#         desl = (L1+L2+L3)\n",
        "#     return desl"
      ],
      "metadata": {
        "id": "7cgKUaX_DJJM"
      },
      "id": "7cgKUaX_DJJM",
      "execution_count": null,
      "outputs": []
    },
    {
      "cell_type": "code",
      "source": [
        "def rampa_disp(t):\n",
        "    return rampa_forca(t)*(1/k1+1/k2+1/k3+1/k4)+(L1+L2+L3+L4)"
      ],
      "metadata": {
        "id": "ggw23G10PMUM"
      },
      "id": "ggw23G10PMUM",
      "execution_count": null,
      "outputs": []
    },
    {
      "cell_type": "markdown",
      "source": [
        "Criando uma derivada da função rampa definida de forma simbólica."
      ],
      "metadata": {
        "id": "LbzSrbVYiTP_"
      },
      "id": "LbzSrbVYiTP_"
    },
    {
      "cell_type": "code",
      "source": [
        "from sympy import Piecewise\n",
        "from sympy import symbols"
      ],
      "metadata": {
        "id": "SsL8MhZiifw_"
      },
      "id": "SsL8MhZiifw_",
      "execution_count": null,
      "outputs": []
    },
    {
      "cell_type": "code",
      "source": [
        "tempo = symbols('t')\n",
        "rampa_desl = Piecewise(\n",
        "    (forca_inicial, (tempo > 0.0) & (tempo < 5.0)),\n",
        "    (forca_inicial+(forca_final-forca_inicial)/(10.0-5.0)*(tempo-5.0), (tempo >= 5.0) & (tempo < 10.0)),\n",
        "    (forca_final*(1/k+1/k+1/k+1/k)+(L+L+L+L), (tempo >= 10.0))\n",
        ")\n",
        "rampa_desl_derivada = rampa_desl.diff(tempo)\n",
        "rampa_desl.diff(tempo)"
      ],
      "metadata": {
        "id": "ggdE1Z8liZFf"
      },
      "id": "ggdE1Z8liZFf",
      "execution_count": null,
      "outputs": []
    },
    {
      "cell_type": "code",
      "source": [
        "def rampa_desl_vectorfield(w, t, p):\n",
        "    \"\"\"\n",
        "    Defines the differential equations for the coupled spring-mass system.\n",
        "\n",
        "    Arguments:\n",
        "        w :  vector of the state variables:\n",
        "                  w = [x1,y1,x2,y2]\n",
        "        t :  time\n",
        "        p :  vector of the parameters:\n",
        "                  p = [m1,m2,k1,k2,L1,L2,b1,b2]\n",
        "    \"\"\"\n",
        "    x1, y1, x2, y2, x3, y3 = w\n",
        "    m1, m2, m3, k1, k2, k3, k4, L1, L2, L3, L4, b1, b2, b3, b4 = p\n",
        "\n",
        "    # Create f = (x1',y1',x2',y2'):\n",
        "    f = [\n",
        "            y1,\n",
        "            (-b1 * y1 - k1 * (x1 - L1) + k2 * (x2 - x1 - L2) ) / m1,\n",
        "            y2,\n",
        "            (-b2 * y2 - k2 * (x2 - x1 - L2) + k3 * (x3 -x2 - L3) ) / m2,\n",
        "            y3,\n",
        "            (-b3 * y3 - k3 * (x3 - x2 - L3) + k4 * (rampa_disp(t) - x3 - L4) ) / m3,\n",
        "        ]\n",
        "    return f"
      ],
      "metadata": {
        "id": "djWNj4G8SEk7"
      },
      "id": "djWNj4G8SEk7",
      "execution_count": null,
      "outputs": []
    },
    {
      "cell_type": "markdown",
      "source": [
        "### Saídas"
      ],
      "metadata": {
        "id": "-Mdi1QiEUR7Z"
      },
      "id": "-Mdi1QiEUR7Z"
    },
    {
      "cell_type": "markdown",
      "source": [
        "#### Unpacking"
      ],
      "metadata": {
        "id": "xM6kH0LGUNMx"
      },
      "id": "xM6kH0LGUNMx"
    },
    {
      "cell_type": "code",
      "source": [
        "p = [m, k, L, b]\n",
        "w0 = [x1, y1, x2, y2, x3, y3, x4, y4, x5, y5, x6, y6, x7, y7, x8, y8]\n",
        "\n",
        "# Call the ODE solver.\n",
        "wsol = odeint(degrau_forca_vectorfield, w0, t, args=(p,),\n",
        "              atol=abserr, rtol=relerr)\n",
        "\n",
        "at, ax1, ay1, ax2, ay2, ax3, ay3, ax4, ay4  = [],[],[],[],[],[],[],[],[],\n",
        "ax5, ay5, ax6, ay6, ax7, ay7, ax8, ay8  = [],[],[],[],[],[],[],[],\n",
        "# adendo\n",
        "IE1, KE1 = [],[]\n",
        "IE2, KE2 = [],[]\n",
        "IE3, KE3 = [],[]\n",
        "IE4, KE4 = [],[]\n",
        "IE5, KE5 = [],[]\n",
        "IE6, KE6 = [],[]\n",
        "IE7, KE7 = [],[]\n",
        "IE8, KE8 = [],[]\n",
        "ET = []\n",
        "for t1, w1 in zip(t, wsol):\n",
        "    # print( t1, w1[0], w1[1], w1[2], w1[3])\n",
        "    at.append(t1)\n",
        "    ax1.append(w1[0])\n",
        "    ay1.append(w1[1])\n",
        "    ax2.append(w1[2])\n",
        "    ay2.append(w1[3])\n",
        "    ax3.append(w1[4])\n",
        "    ay3.append(w1[5])\n",
        "    ax4.append(w1[6])\n",
        "    ay4.append(w1[7])\n",
        "    ax5.append(w1[8])\n",
        "    ay5.append(w1[9])\n",
        "    ax6.append(w1[10])\n",
        "    ay6.append(w1[11])\n",
        "    ax7.append(w1[12])\n",
        "    ay7.append(w1[13])\n",
        "    ax8.append(w1[14])\n",
        "    ay8.append(w1[15])\n",
        "\n",
        "    IE1.append(k*(w1[0]-L)**2/2)\n",
        "    KE1.append(m*w1[1]**2/2)\n",
        "    IE2.append(k*(w1[2]-w1[0]-L)**2/2)\n",
        "    KE2.append(m*w1[3]**2/2)\n",
        "    IE3.append(k*(w1[4]-w1[2]-L)**2/2)\n",
        "    KE3.append(m*w1[5]**2/2)\n",
        "    IE4.append(k*(w1[6]-w1[4]-L)**2/2)\n",
        "    KE4.append(m*w1[7]**2/2)\n",
        "    ET.append(k*(w1[0]-L)**2/2+\n",
        "              m*w1[1]**2/2+\n",
        "              k*(w1[2]-w1[0]-L)**2/2+\n",
        "              m*w1[3]**2/2+\n",
        "              k*(w1[4]-w1[2]-L)**2/2+\n",
        "              m*w1[5]**2/2+\n",
        "              k*(w1[6]-w1[4]-L)**2/2+\n",
        "              m*w1[7]**2/2)"
      ],
      "metadata": {
        "id": "naR2ShfNULtB"
      },
      "id": "naR2ShfNULtB",
      "execution_count": null,
      "outputs": []
    },
    {
      "cell_type": "markdown",
      "source": [
        "#### Forças de Reação"
      ],
      "metadata": {
        "id": "1oKPwxRhUlYy"
      },
      "id": "1oKPwxRhUlYy"
    },
    {
      "cell_type": "code",
      "source": [
        "plt.figure(figsize=(8,8))\n",
        "F1 = -k*np.array(ax1) + np.array([k*L for i in range(len(ax1))])\n",
        "plt.plot(at, F1, 'b', linewidth=1)\n",
        "F2 = -k*(np.array(ax2)-np.array(ax1)-L)\n",
        "plt.plot(at, F2, 'g', linewidth=1)\n",
        "F3 = -k*(np.array(ax3)-np.array(ax2)-L)\n",
        "plt.plot(at, F3, 'c', linewidth=1)\n",
        "F4 = -k*(np.array(ax4)-np.array(ax3)-L)\n",
        "plt.plot(at, F4, 'm', linewidth=1)\n",
        "F5 = -k*(np.array(ax5)-np.array(ax4)-L)\n",
        "plt.plot(at, F5, 'b', linewidth=1)\n",
        "F6 = -k*(np.array(ax6)-np.array(ax5)-L)\n",
        "plt.plot(at, F6, 'g', linewidth=1)\n",
        "F7 = -k*(np.array(ax7)-np.array(ax6)-L)\n",
        "plt.plot(at, F7, 'c', linewidth=1)\n",
        "F8 = -k*(np.array(ax8)-np.array(ax7)-L)\n",
        "plt.plot(at, F8, 'm', linewidth=1)\n",
        "plt.plot(at, -np.array([ rampa_forca(t) for t in at ]), 'r', linewidth=1)\n",
        "\n",
        "plt.text(\n",
        "    at[np.where(F1 == max(F1))[0][0]]+0.5,\n",
        "    max(F1),\n",
        "    '$F_{1,max}$ = '+str(\"{:.3f}\".format(max(F1)))\n",
        "    )\n",
        "array_diferencas = F1 - (-forca_final)\n",
        "indice_tr = np.abs(array_diferencas)[:np.where(F1 == max(F1))[0][0]].argmin()\n",
        "plt.text(\n",
        "    at[indice_tr]+0.25,\n",
        "    -forca_final-0.05,\n",
        "    '$t_{r,subida}$ = '+str(\"{:.3f}\".format(at[indice_tr]))\n",
        "    )\n",
        "array_diferencas = F1 - (-forca_final/2)\n",
        "indice_td = np.abs(array_diferencas)[:np.where(F1 == max(F1))[0][0]].argmin()\n",
        "plt.text(\n",
        "    at[indice_td]+0.25,\n",
        "    - forca_final/2,\n",
        "    '$t_{d,atraso}$ = '+str(\"{:.3f}\".format(at[indice_td]))\n",
        "    )\n",
        "indice_tp = np.where(F1 == max(F1))[0][0]\n",
        "plt.text(\n",
        "    at[indice_tp]+2,\n",
        "    F1[indice_tp]-0.05,\n",
        "    '$t_{p,pico}$ = '+str(\"{:.3f}\".format(at[indice_tp]))\n",
        "    )\n",
        "tolerancia = 0.02\n",
        "array_diferencas_abs = np.abs( F1 - (-forca_final) )\n",
        "indices_tol = np.where(array_diferencas_abs < tolerancia)[0]\n",
        "comecos_de_pedacos = []\n",
        "for i in range(len(indices_tol)-1):\n",
        "  if indices_tol[i] != indices_tol[i+1]-1:\n",
        "    comecos_de_pedacos.append(i)\n",
        "indice_ts = indices_tol[comecos_de_pedacos[-1]+1]\n",
        "plt.text(\n",
        "    at[indice_ts],\n",
        "    F1[indice_ts]-0.05,\n",
        "    '$t_{s,assentamento}$ = '+str(\"{:.3f}\".format(at[indice_ts]))\n",
        "    )\n",
        "omega_d = np.pi/at[indice_tp]\n",
        "plt.text(\n",
        "    0.0, 1.0,\n",
        "    '$\\omega_d$ = '+str(\"{:.3f}\".format(omega_d))\n",
        ")\n",
        "UP = max(F1) - (-forca_final)\n",
        "xi = -np.log(UP)/np.sqrt(np.pi**2+np.log(UP)**2)\n",
        "plt.text(\n",
        "    0.0, 0.9,\n",
        "    r'$\\xi$ = '+str(\"{:.3f}\".format(xi))\n",
        ")\n",
        "omega_n = omega_d/np.sqrt(1-xi*xi)\n",
        "plt.text(\n",
        "    0.0, 0.8,\n",
        "    '$\\omega_n$ = '+str(\"{:.3f}\".format(omega_n))\n",
        ")\n",
        "zeta = np.sqrt(1-xi**2)\n",
        "plt.text(\n",
        "    0.0, 0.7,\n",
        "    '$\\zeta$ = '+str(\"{:.3f}\".format(zeta))\n",
        ")\n",
        "theta = np.arctan(np.sqrt(1-xi**2)/xi)\n",
        "plt.text(\n",
        "    0.0, 0.6,\n",
        "    r'$\\theta$ = '+str(\"{:.3f}\".format(theta))\n",
        ")\n",
        "plt.grid(visible=True)\n",
        "plt.xlabel('time (s)')\n",
        "plt.ylabel('force (N)')\n",
        "plt.legend((r'$F_{1}$', r'$F_{2}$', r'$F_{3}$', r'$F_{4}$',\n",
        "            r'$F_{5}$', r'$F_{6}$', r'$F_{7}$', r'$F_{8}$',),loc='lower right')\n",
        "plt.title('Reaction and Applied Forces for the Triply Coupled Spring-Mass System rampa forca')"
      ],
      "metadata": {
        "id": "CJvMyzmCUzRC"
      },
      "id": "CJvMyzmCUzRC",
      "execution_count": null,
      "outputs": []
    },
    {
      "cell_type": "code",
      "source": [
        "plt.figure(figsize=(8,8))\n",
        "Freacao = -k1*np.array(ax1) + np.array([k1*L1 for i in range(len(ax1))])\n",
        "plt.plot(at, Freacao, 'b', linewidth=1)\n",
        "F2 = -k2*(np.array(ax2)-np.array(ax1)-L2)\n",
        "plt.plot(at, F2, 'g', linewidth=1)\n",
        "F3 = -k3*(np.array(ax3)-np.array(ax2)-L3)\n",
        "plt.plot(at, F3, 'c', linewidth=1)\n",
        "F4 = -k4*(np.array(ax4)-np.array(ax3)-L4)\n",
        "plt.plot(at, F4, 'm', linewidth=1)\n",
        "\n",
        "plt.text(\n",
        "    at[np.where(Freacao == max(Freacao))[0][0]]+0.5,\n",
        "    max(Freacao),\n",
        "    '$F_{reacao,max}$ = '+str(\"{:.3f}\".format(max(Freacao)))\n",
        "    )\n",
        "array_diferencas = Freacao - (-forca_final)\n",
        "indice_tr = np.abs(array_diferencas)[:np.where(Freacao == max(Freacao))[0][0]].argmin()\n",
        "plt.text(\n",
        "    at[indice_tr]+0.25,\n",
        "    -forca_final-0.05,\n",
        "    '$t_{r,subida}$ = '+str(\"{:.3f}\".format(at[indice_tr]))\n",
        "    )\n",
        "array_diferencas = Freacao - (-forca_final/2)\n",
        "indice_td = np.abs(array_diferencas)[:np.where(Freacao == max(Freacao))[0][0]].argmin()\n",
        "plt.text(\n",
        "    at[indice_td]+0.25,\n",
        "    - forca_final/2,\n",
        "    '$t_{d,atraso}$ = '+str(\"{:.3f}\".format(at[indice_td]))\n",
        "    )\n",
        "indice_tp = np.where(Freacao == max(Freacao))[0][0]\n",
        "plt.text(\n",
        "    at[indice_tp]+2,\n",
        "    Freacao[indice_tp]-0.05,\n",
        "    '$t_{p,pico}$ = '+str(\"{:.3f}\".format(at[indice_tp]))\n",
        "    )\n",
        "tolerancia = 0.02\n",
        "array_diferencas_abs = np.abs( Freacao - (-forca_final) )\n",
        "indices_tol = np.where(array_diferencas_abs < tolerancia)[0]\n",
        "comecos_de_pedacos = []\n",
        "for i in range(len(indices_tol)-1):\n",
        "  if indices_tol[i] != indices_tol[i+1]-1:\n",
        "    comecos_de_pedacos.append(i)\n",
        "indice_ts = indices_tol[comecos_de_pedacos[-1]+1]\n",
        "plt.text(\n",
        "    at[indice_ts],\n",
        "    Freacao[indice_ts]-0.05,\n",
        "    '$t_{s,assentamento}$ = '+str(\"{:.3f}\".format(at[indice_ts]))\n",
        "    )\n",
        "omega_d = np.pi/at[indice_tp]\n",
        "plt.text(\n",
        "    0.0, 1.0,\n",
        "    '$\\omega_d$ = '+str(\"{:.3f}\".format(omega_d))\n",
        ")\n",
        "UP = max(Freacao) - (-forca_final)\n",
        "xi = -np.log(UP)/np.sqrt(np.pi**2+np.log(UP)**2)\n",
        "plt.text(\n",
        "    0.0, 0.9,\n",
        "    r'$\\xi$ = '+str(\"{:.3f}\".format(xi))\n",
        ")\n",
        "omega_n = omega_d/np.sqrt(1-xi*xi)\n",
        "plt.text(\n",
        "    0.0, 0.8,\n",
        "    '$\\omega_n$ = '+str(\"{:.3f}\".format(omega_n))\n",
        ")\n",
        "zeta = np.sqrt(1-xi**2)\n",
        "plt.text(\n",
        "    0.0, 0.7,\n",
        "    '$\\zeta$ = '+str(\"{:.3f}\".format(zeta))\n",
        ")\n",
        "theta = np.arctan(np.sqrt(1-xi**2)/xi)\n",
        "plt.text(\n",
        "    0.0, 0.6,\n",
        "    r'$\\theta$ = '+str(\"{:.3f}\".format(theta))\n",
        ")\n",
        "plt.grid(visible=True)\n",
        "plt.xlabel('time (s)')\n",
        "plt.ylabel('force (N)')\n",
        "plt.legend((r'$F_{reacao}$', r'$F_{2}$', r'$F_{3}$', r'$F_{4}$', r'$F_{5}$'),loc='lower right')\n",
        "plt.title('Reaction and Applied Forces for the Four Coupled Spring-Mass System rampa desl')"
      ],
      "metadata": {
        "id": "wibpQLLZE1wt"
      },
      "id": "wibpQLLZE1wt",
      "execution_count": null,
      "outputs": []
    },
    {
      "cell_type": "markdown",
      "source": [
        "#### Posições"
      ],
      "metadata": {
        "id": "bq7aYD_7UqEp"
      },
      "id": "bq7aYD_7UqEp"
    },
    {
      "cell_type": "code",
      "source": [
        "plt.figure(figsize=(8,8))\n",
        "plt.plot(at, ax1, 'b', linewidth=1)\n",
        "plt.plot(at, ax2, 'g', linewidth=1)\n",
        "plt.plot(at, ax3, 'r', linewidth=1)\n",
        "plt.plot(at, ax4, 'm', linewidth=1)\n",
        "\n",
        "plt.text(at[ax1.index(min(ax1))], min(ax1)-0.1, '$x_{1,min}$ = '+str(\"{:.3f}\".format(min(ax1))))\n",
        "plt.text(at[ax2.index(min(ax2))], min(ax2)-0.1, '$x_{2,min}$ = '+str(\"{:.3f}\".format(min(ax2))))\n",
        "plt.text(at[ax3.index(min(ax3))], min(ax3)-0.1, '$x_{3,min}$ = '+str(\"{:.3f}\".format(min(ax3))))\n",
        "plt.text(at[ax4.index(min(ax4))], min(ax4)-0.1, '$x_{4,min}$ = '+str(\"{:.3f}\".format(min(ax4))))\n",
        "plt.grid(visible=True)\n",
        "plt.xlabel('time (s)')\n",
        "plt.ylabel('position (m)')\n",
        "plt.legend((r'$x_1$', r'$x_2$', r'$x_3$', r'$x_4$'))\n",
        "plt.title('Mass Displacements for the Four Coupled Spring-Mass System rampa desl')"
      ],
      "metadata": {
        "id": "5obNKeQkFojM"
      },
      "id": "5obNKeQkFojM",
      "execution_count": null,
      "outputs": []
    },
    {
      "cell_type": "code",
      "source": [],
      "metadata": {
        "id": "DWym0Y9tFoak"
      },
      "id": "DWym0Y9tFoak",
      "execution_count": null,
      "outputs": []
    },
    {
      "cell_type": "markdown",
      "source": [
        "#### Velocidades"
      ],
      "metadata": {
        "id": "6sE4AIrgU2Jy"
      },
      "id": "6sE4AIrgU2Jy"
    },
    {
      "cell_type": "code",
      "source": [
        "plt.figure(figsize=(8,8))\n",
        "plt.plot(at, ay1, 'b', linewidth=1)\n",
        "plt.plot(at, ay2, 'g', linewidth=1)\n",
        "plt.plot(at, ay3, 'r', linewidth=1)\n",
        "plt.plot(at, ay4, 'm', linewidth=1)\n",
        "\n",
        "\n",
        "plt.text(at[ay1.index(min(ay1))]+0.5, min(ay1), '$v_{1,min}$ = '+str(\"{:.3f}\".format(min(ay1))))\n",
        "plt.text(at[ay2.index(min(ay2))]+0.5, min(ay2), '$v_{2,min}$ = '+str(\"{:.3f}\".format(min(ay2))))\n",
        "plt.text(at[ay3.index(min(ay3))]+0.5, min(ay3), '$v_{3,min}$ = '+str(\"{:.3f}\".format(min(ay3))))\n",
        "# plt.text(at[ay4.index(min(ay4))]+0.5, min(ay4), '$v_{4,min}$ = '+str(\"{:.3f}\".format(min(ay4))))\n",
        "\n",
        "plt.grid(visible=True)\n",
        "plt.xlabel('time (s)')\n",
        "plt.ylabel('position (m)')\n",
        "plt.legend((r'$v_1$', r'$v_2$', r'$v_3$', r'$v_4$', r'$v_5$'))\n",
        "plt.title('Mass Velocities for the Four Coupled Spring-Mass System rampa desl')"
      ],
      "metadata": {
        "id": "rSKHf7fcU2lv"
      },
      "id": "rSKHf7fcU2lv",
      "execution_count": null,
      "outputs": []
    },
    {
      "cell_type": "code",
      "source": [
        "\n",
        "# adendo\n",
        "plt.figure(figsize=(8,8))\n",
        "plt.grid(visible=True)\n",
        "plt.plot(at,IE1,'b-')\n",
        "plt.plot(at,KE1,'darkblue')\n",
        "plt.plot(at,IE2,'g-')\n",
        "plt.plot(at,KE2,'darkgreen')\n",
        "plt.plot(at,IE3,'r-')\n",
        "plt.plot(at,KE3,'darkred')\n",
        "plt.plot(at,IE4,'m-')\n",
        "plt.plot(at,KE4,'darkmagenta')\n",
        "plt.plot(at,ET,'black')\n",
        "plt.legend((r'$IE_1$',r'$KE_1$',r'$IE_2$',r'$KE_2$',r'$IE_3$',r'$KE_3$',r'$IE_4$',r'$KE_4$',r'$E_T$'))\n",
        "plt.title('Energies')"
      ],
      "metadata": {
        "id": "I_KYvatHIkls"
      },
      "id": "I_KYvatHIkls",
      "execution_count": null,
      "outputs": []
    },
    {
      "cell_type": "markdown",
      "source": [
        "#### Extremos"
      ],
      "metadata": {
        "id": "MMjSTKCNU5KY"
      },
      "id": "MMjSTKCNU5KY"
    },
    {
      "cell_type": "code",
      "source": [
        "print('x1_min = '+str(min(ax1)))\n",
        "print('x2_min = '+str(min(ax2)))\n",
        "print('x3_min = '+str(min(ax3)))\n",
        "\n",
        "print('Freacao_max = '+str(max(-k1*np.array(ax1) + np.array([k1*L1 for i in range(len(ax1))]))))\n",
        "print('Fx2_min = '+str(min(np.array([ rampa_forca(t) for t in at ]))))"
      ],
      "metadata": {
        "id": "cUvdNxxDU6XQ"
      },
      "id": "cUvdNxxDU6XQ",
      "execution_count": null,
      "outputs": []
    },
    {
      "cell_type": "code",
      "source": [
        "print(np.array([\n",
        "    # nolds.lyap_r(a)#x1),\n",
        "    nolds.lyap_e(ax1),#,emb_dim=28,matrix_dim=10),\n",
        "    # nolds.dfa(ax1))#,\n",
        "    # nolds.lyap_r(a)#x2),\n",
        "    nolds.lyap_e(ax2),#,emb_dim=28,matrix_dim=10),\n",
        "    # nolds.dfa(ax2))#,\n",
        "    nolds.lyap_e(ax3),#,emb_dim=28,matrix_dim=10),\n",
        "    \n",
        "    nolds.lyap_e(ax4),#,emb_dim=28,matrix_dim=10),\n",
        "]))"
      ],
      "metadata": {
        "id": "xEjjCoVHspQX"
      },
      "id": "xEjjCoVHspQX",
      "execution_count": null,
      "outputs": []
    },
    {
      "cell_type": "markdown",
      "source": [
        "Can I calculate the Kaplan-Yorke dimension?"
      ],
      "metadata": {
        "id": "wmALjaoUtUCm"
      },
      "id": "wmALjaoUtUCm"
    },
    {
      "cell_type": "code",
      "source": [
        "#nolds.lyap_e(ax1,emb_dim=19*4+1,matrix_dim=20)"
      ],
      "metadata": {
        "id": "CUOuwnYltSuP"
      },
      "id": "CUOuwnYltSuP",
      "execution_count": null,
      "outputs": []
    },
    {
      "cell_type": "code",
      "source": [
        "19*4+1"
      ],
      "metadata": {
        "id": "EbWYNDV7t4TG"
      },
      "id": "EbWYNDV7t4TG",
      "execution_count": null,
      "outputs": []
    }
  ],
  "metadata": {
    "kernelspec": {
      "display_name": "Python 3 (ipykernel)",
      "language": "python",
      "name": "python3"
    },
    "language_info": {
      "codemirror_mode": {
        "name": "ipython",
        "version": 3
      },
      "file_extension": ".py",
      "mimetype": "text/x-python",
      "name": "python",
      "nbconvert_exporter": "python",
      "pygments_lexer": "ipython3",
      "version": "3.9.5"
    },
    "colab": {
      "provenance": [],
      "collapsed_sections": [
        "xnC3bPlD0w81"
      ],
      "toc_visible": true
    }
  },
  "nbformat": 4,
  "nbformat_minor": 5
}